{
  "nbformat": 4,
  "nbformat_minor": 0,
  "metadata": {
    "colab": {
      "provenance": [],
      "include_colab_link": true
    },
    "kernelspec": {
      "name": "python3",
      "display_name": "Python 3"
    },
    "language_info": {
      "name": "python"
    }
  },
  "cells": [
    {
      "cell_type": "markdown",
      "metadata": {
        "id": "view-in-github",
        "colab_type": "text"
      },
      "source": [
        "<a href=\"https://colab.research.google.com/github/eeqilim/lung-cancer-prediction/blob/main/lung_cancer_prediction.ipynb\" target=\"_parent\"><img src=\"https://colab.research.google.com/assets/colab-badge.svg\" alt=\"Open In Colab\"/></a>"
      ]
    },
    {
      "cell_type": "markdown",
      "source": [
        "# **An Application of Discrete Probability in Lung Cancer Prediction**"
      ],
      "metadata": {
        "id": "jErA5TTJySXE"
      }
    },
    {
      "cell_type": "markdown",
      "source": [
        "The project predicts lung cancer using machine learning models, specifically Gaussian Naive Bayes and Logistic Regression, along with a neural network using TensorFlow and PyTorch."
      ],
      "metadata": {
        "id": "ph_-YpluQUu2"
      }
    },
    {
      "cell_type": "markdown",
      "source": [
        "**Here's a detailed explanation of the project:**\n",
        "\n",
        "1. Data Cleaning and Preprocessing:\n",
        "- The dataset is checked for duplicate rows using the drop_duplicates() method, and any duplicate data is eliminated from the DataFrame.\n",
        "- Data is adjusted and stored in the 'dataset_new' DataFrame, where each element is mapped according to the specified maper dictionary, and the \"AGE\" feature is retained for analysis.\n",
        "\n",
        "2. Data Splitting and Standardization:\n",
        "- The 'dataset_new' DataFrame is split into features (x) and target (y), where 'LUNG_CANCER' is the target variable.\n",
        "- Features (x) are standardized using StandardScaler() from scikit-learn, which scales the features to have mean=0 and standard deviation=1.\n",
        "\n",
        "3. Model Training and Evaluation:\n",
        "- The standardized features and target are split into training and testing sets using train_test_split() from scikit-learn with a test size of 25%.\n",
        "- **TensorFlow:** A neural network model is defined using TensorFlow's Keras API. The model architecture includes an input layer with the number of features, a hidden layer with 64 units and ReLU activation, and an output layer with a single unit and sigmoid activation for binary classification. The model is compiled with the 'adam' optimizer and 'binary_crossentropy' loss function.\n",
        "- **PyTorch:** Similarly, a neural network model (LungCancerModel) is implemented using PyTorch's nn.Module. The model architecture comprises an input layer (fc1), a hidden layer (fc2) with 64 units, ReLU activation (relu), and an output layer (fc2) with sigmoid activation (sigmoid) for binary classification. The model is trained using the binary cross-entropy loss (BCELoss) and optimized with the Adam optimizer.\n",
        "- **Gaussian Naive Bayes and Logistic Regression:** Both models are trained and evaluated using the same training and testing sets. Confusion matrices and classification reports are generated for each model to assess performance.\n",
        "\n",
        "4. Evaluation and Comparison:\n",
        "- After training, the performance of each model is evaluated using the test dataset.\n",
        "- For TensorFlow, the test accuracy and loss metrics are computed using model.evaluate() to assess the model's performance.\n",
        "- For PyTorch, the model is evaluated on the test data (xTestTensor, yTestTensor), and the test loss and accuracy are calculated.\n",
        "- The use of both TensorFlow and PyTorch enables a comparative analysis of model performance, providing insights into differences in accuracy and efficiency between the two frameworks.\n"
      ],
      "metadata": {
        "id": "td9okt7TQmYW"
      }
    },
    {
      "cell_type": "markdown",
      "source": [
        "**Import Libraries and Dataset**"
      ],
      "metadata": {
        "id": "tl0g3knkwADn"
      }
    },
    {
      "cell_type": "code",
      "source": [
        "import pandas as pd\n",
        "import matplotlib.pyplot as plt"
      ],
      "metadata": {
        "id": "4DdIRsDiwCeX"
      },
      "execution_count": 360,
      "outputs": []
    },
    {
      "cell_type": "code",
      "source": [
        "dataset = pd.read_csv('survey lung cancer.csv')"
      ],
      "metadata": {
        "id": "8cpc342KwFHB"
      },
      "execution_count": 361,
      "outputs": []
    },
    {
      "cell_type": "markdown",
      "source": [
        "**Overview of the data**"
      ],
      "metadata": {
        "id": "ja0OJhYUyBNx"
      }
    },
    {
      "cell_type": "code",
      "source": [
        "dataset.shape # num of rows, num of columns"
      ],
      "metadata": {
        "id": "3pClGOB_wGSe",
        "colab": {
          "base_uri": "https://localhost:8080/"
        },
        "outputId": "d7442e34-44e5-487d-ea7f-17aa90419390"
      },
      "execution_count": 362,
      "outputs": [
        {
          "output_type": "execute_result",
          "data": {
            "text/plain": [
              "(309, 16)"
            ]
          },
          "metadata": {},
          "execution_count": 362
        }
      ]
    },
    {
      "cell_type": "code",
      "source": [
        "dataset.head() # Display first 5 of the dataset"
      ],
      "metadata": {
        "id": "JWdCEDkKwHeu",
        "colab": {
          "base_uri": "https://localhost:8080/",
          "height": 241
        },
        "outputId": "eb8f6856-d1fa-4e76-ddf3-25349767d898"
      },
      "execution_count": 363,
      "outputs": [
        {
          "output_type": "execute_result",
          "data": {
            "text/plain": [
              "  GENDER  AGE  SMOKING  YELLOW_FINGERS  ANXIETY  PEER_PRESSURE  \\\n",
              "0      M   69        1               2        2              1   \n",
              "1      M   74        2               1        1              1   \n",
              "2      F   59        1               1        1              2   \n",
              "3      M   63        2               2        2              1   \n",
              "4      F   63        1               2        1              1   \n",
              "\n",
              "   CHRONIC DISEASE  FATIGUE   ALLERGY   WHEEZING  ALCOHOL CONSUMING  COUGHING  \\\n",
              "0                1         2         1         2                  2         2   \n",
              "1                2         2         2         1                  1         1   \n",
              "2                1         2         1         2                  1         2   \n",
              "3                1         1         1         1                  2         1   \n",
              "4                1         1         1         2                  1         2   \n",
              "\n",
              "   SHORTNESS OF BREATH  SWALLOWING DIFFICULTY  CHEST PAIN LUNG_CANCER  \n",
              "0                    2                      2           2         YES  \n",
              "1                    2                      2           2         YES  \n",
              "2                    2                      1           2          NO  \n",
              "3                    1                      2           2          NO  \n",
              "4                    2                      1           1          NO  "
            ],
            "text/html": [
              "\n",
              "  <div id=\"df-2bf2af59-39a9-4acf-9d3e-acc0c9f4092b\" class=\"colab-df-container\">\n",
              "    <div>\n",
              "<style scoped>\n",
              "    .dataframe tbody tr th:only-of-type {\n",
              "        vertical-align: middle;\n",
              "    }\n",
              "\n",
              "    .dataframe tbody tr th {\n",
              "        vertical-align: top;\n",
              "    }\n",
              "\n",
              "    .dataframe thead th {\n",
              "        text-align: right;\n",
              "    }\n",
              "</style>\n",
              "<table border=\"1\" class=\"dataframe\">\n",
              "  <thead>\n",
              "    <tr style=\"text-align: right;\">\n",
              "      <th></th>\n",
              "      <th>GENDER</th>\n",
              "      <th>AGE</th>\n",
              "      <th>SMOKING</th>\n",
              "      <th>YELLOW_FINGERS</th>\n",
              "      <th>ANXIETY</th>\n",
              "      <th>PEER_PRESSURE</th>\n",
              "      <th>CHRONIC DISEASE</th>\n",
              "      <th>FATIGUE</th>\n",
              "      <th>ALLERGY</th>\n",
              "      <th>WHEEZING</th>\n",
              "      <th>ALCOHOL CONSUMING</th>\n",
              "      <th>COUGHING</th>\n",
              "      <th>SHORTNESS OF BREATH</th>\n",
              "      <th>SWALLOWING DIFFICULTY</th>\n",
              "      <th>CHEST PAIN</th>\n",
              "      <th>LUNG_CANCER</th>\n",
              "    </tr>\n",
              "  </thead>\n",
              "  <tbody>\n",
              "    <tr>\n",
              "      <th>0</th>\n",
              "      <td>M</td>\n",
              "      <td>69</td>\n",
              "      <td>1</td>\n",
              "      <td>2</td>\n",
              "      <td>2</td>\n",
              "      <td>1</td>\n",
              "      <td>1</td>\n",
              "      <td>2</td>\n",
              "      <td>1</td>\n",
              "      <td>2</td>\n",
              "      <td>2</td>\n",
              "      <td>2</td>\n",
              "      <td>2</td>\n",
              "      <td>2</td>\n",
              "      <td>2</td>\n",
              "      <td>YES</td>\n",
              "    </tr>\n",
              "    <tr>\n",
              "      <th>1</th>\n",
              "      <td>M</td>\n",
              "      <td>74</td>\n",
              "      <td>2</td>\n",
              "      <td>1</td>\n",
              "      <td>1</td>\n",
              "      <td>1</td>\n",
              "      <td>2</td>\n",
              "      <td>2</td>\n",
              "      <td>2</td>\n",
              "      <td>1</td>\n",
              "      <td>1</td>\n",
              "      <td>1</td>\n",
              "      <td>2</td>\n",
              "      <td>2</td>\n",
              "      <td>2</td>\n",
              "      <td>YES</td>\n",
              "    </tr>\n",
              "    <tr>\n",
              "      <th>2</th>\n",
              "      <td>F</td>\n",
              "      <td>59</td>\n",
              "      <td>1</td>\n",
              "      <td>1</td>\n",
              "      <td>1</td>\n",
              "      <td>2</td>\n",
              "      <td>1</td>\n",
              "      <td>2</td>\n",
              "      <td>1</td>\n",
              "      <td>2</td>\n",
              "      <td>1</td>\n",
              "      <td>2</td>\n",
              "      <td>2</td>\n",
              "      <td>1</td>\n",
              "      <td>2</td>\n",
              "      <td>NO</td>\n",
              "    </tr>\n",
              "    <tr>\n",
              "      <th>3</th>\n",
              "      <td>M</td>\n",
              "      <td>63</td>\n",
              "      <td>2</td>\n",
              "      <td>2</td>\n",
              "      <td>2</td>\n",
              "      <td>1</td>\n",
              "      <td>1</td>\n",
              "      <td>1</td>\n",
              "      <td>1</td>\n",
              "      <td>1</td>\n",
              "      <td>2</td>\n",
              "      <td>1</td>\n",
              "      <td>1</td>\n",
              "      <td>2</td>\n",
              "      <td>2</td>\n",
              "      <td>NO</td>\n",
              "    </tr>\n",
              "    <tr>\n",
              "      <th>4</th>\n",
              "      <td>F</td>\n",
              "      <td>63</td>\n",
              "      <td>1</td>\n",
              "      <td>2</td>\n",
              "      <td>1</td>\n",
              "      <td>1</td>\n",
              "      <td>1</td>\n",
              "      <td>1</td>\n",
              "      <td>1</td>\n",
              "      <td>2</td>\n",
              "      <td>1</td>\n",
              "      <td>2</td>\n",
              "      <td>2</td>\n",
              "      <td>1</td>\n",
              "      <td>1</td>\n",
              "      <td>NO</td>\n",
              "    </tr>\n",
              "  </tbody>\n",
              "</table>\n",
              "</div>\n",
              "    <div class=\"colab-df-buttons\">\n",
              "\n",
              "  <div class=\"colab-df-container\">\n",
              "    <button class=\"colab-df-convert\" onclick=\"convertToInteractive('df-2bf2af59-39a9-4acf-9d3e-acc0c9f4092b')\"\n",
              "            title=\"Convert this dataframe to an interactive table.\"\n",
              "            style=\"display:none;\">\n",
              "\n",
              "  <svg xmlns=\"http://www.w3.org/2000/svg\" height=\"24px\" viewBox=\"0 -960 960 960\">\n",
              "    <path d=\"M120-120v-720h720v720H120Zm60-500h600v-160H180v160Zm220 220h160v-160H400v160Zm0 220h160v-160H400v160ZM180-400h160v-160H180v160Zm440 0h160v-160H620v160ZM180-180h160v-160H180v160Zm440 0h160v-160H620v160Z\"/>\n",
              "  </svg>\n",
              "    </button>\n",
              "\n",
              "  <style>\n",
              "    .colab-df-container {\n",
              "      display:flex;\n",
              "      gap: 12px;\n",
              "    }\n",
              "\n",
              "    .colab-df-convert {\n",
              "      background-color: #E8F0FE;\n",
              "      border: none;\n",
              "      border-radius: 50%;\n",
              "      cursor: pointer;\n",
              "      display: none;\n",
              "      fill: #1967D2;\n",
              "      height: 32px;\n",
              "      padding: 0 0 0 0;\n",
              "      width: 32px;\n",
              "    }\n",
              "\n",
              "    .colab-df-convert:hover {\n",
              "      background-color: #E2EBFA;\n",
              "      box-shadow: 0px 1px 2px rgba(60, 64, 67, 0.3), 0px 1px 3px 1px rgba(60, 64, 67, 0.15);\n",
              "      fill: #174EA6;\n",
              "    }\n",
              "\n",
              "    .colab-df-buttons div {\n",
              "      margin-bottom: 4px;\n",
              "    }\n",
              "\n",
              "    [theme=dark] .colab-df-convert {\n",
              "      background-color: #3B4455;\n",
              "      fill: #D2E3FC;\n",
              "    }\n",
              "\n",
              "    [theme=dark] .colab-df-convert:hover {\n",
              "      background-color: #434B5C;\n",
              "      box-shadow: 0px 1px 3px 1px rgba(0, 0, 0, 0.15);\n",
              "      filter: drop-shadow(0px 1px 2px rgba(0, 0, 0, 0.3));\n",
              "      fill: #FFFFFF;\n",
              "    }\n",
              "  </style>\n",
              "\n",
              "    <script>\n",
              "      const buttonEl =\n",
              "        document.querySelector('#df-2bf2af59-39a9-4acf-9d3e-acc0c9f4092b button.colab-df-convert');\n",
              "      buttonEl.style.display =\n",
              "        google.colab.kernel.accessAllowed ? 'block' : 'none';\n",
              "\n",
              "      async function convertToInteractive(key) {\n",
              "        const element = document.querySelector('#df-2bf2af59-39a9-4acf-9d3e-acc0c9f4092b');\n",
              "        const dataTable =\n",
              "          await google.colab.kernel.invokeFunction('convertToInteractive',\n",
              "                                                    [key], {});\n",
              "        if (!dataTable) return;\n",
              "\n",
              "        const docLinkHtml = 'Like what you see? Visit the ' +\n",
              "          '<a target=\"_blank\" href=https://colab.research.google.com/notebooks/data_table.ipynb>data table notebook</a>'\n",
              "          + ' to learn more about interactive tables.';\n",
              "        element.innerHTML = '';\n",
              "        dataTable['output_type'] = 'display_data';\n",
              "        await google.colab.output.renderOutput(dataTable, element);\n",
              "        const docLink = document.createElement('div');\n",
              "        docLink.innerHTML = docLinkHtml;\n",
              "        element.appendChild(docLink);\n",
              "      }\n",
              "    </script>\n",
              "  </div>\n",
              "\n",
              "\n",
              "<div id=\"df-a630c393-bd12-46b9-8e3c-b723cc7b7e03\">\n",
              "  <button class=\"colab-df-quickchart\" onclick=\"quickchart('df-a630c393-bd12-46b9-8e3c-b723cc7b7e03')\"\n",
              "            title=\"Suggest charts\"\n",
              "            style=\"display:none;\">\n",
              "\n",
              "<svg xmlns=\"http://www.w3.org/2000/svg\" height=\"24px\"viewBox=\"0 0 24 24\"\n",
              "     width=\"24px\">\n",
              "    <g>\n",
              "        <path d=\"M19 3H5c-1.1 0-2 .9-2 2v14c0 1.1.9 2 2 2h14c1.1 0 2-.9 2-2V5c0-1.1-.9-2-2-2zM9 17H7v-7h2v7zm4 0h-2V7h2v10zm4 0h-2v-4h2v4z\"/>\n",
              "    </g>\n",
              "</svg>\n",
              "  </button>\n",
              "\n",
              "<style>\n",
              "  .colab-df-quickchart {\n",
              "      --bg-color: #E8F0FE;\n",
              "      --fill-color: #1967D2;\n",
              "      --hover-bg-color: #E2EBFA;\n",
              "      --hover-fill-color: #174EA6;\n",
              "      --disabled-fill-color: #AAA;\n",
              "      --disabled-bg-color: #DDD;\n",
              "  }\n",
              "\n",
              "  [theme=dark] .colab-df-quickchart {\n",
              "      --bg-color: #3B4455;\n",
              "      --fill-color: #D2E3FC;\n",
              "      --hover-bg-color: #434B5C;\n",
              "      --hover-fill-color: #FFFFFF;\n",
              "      --disabled-bg-color: #3B4455;\n",
              "      --disabled-fill-color: #666;\n",
              "  }\n",
              "\n",
              "  .colab-df-quickchart {\n",
              "    background-color: var(--bg-color);\n",
              "    border: none;\n",
              "    border-radius: 50%;\n",
              "    cursor: pointer;\n",
              "    display: none;\n",
              "    fill: var(--fill-color);\n",
              "    height: 32px;\n",
              "    padding: 0;\n",
              "    width: 32px;\n",
              "  }\n",
              "\n",
              "  .colab-df-quickchart:hover {\n",
              "    background-color: var(--hover-bg-color);\n",
              "    box-shadow: 0 1px 2px rgba(60, 64, 67, 0.3), 0 1px 3px 1px rgba(60, 64, 67, 0.15);\n",
              "    fill: var(--button-hover-fill-color);\n",
              "  }\n",
              "\n",
              "  .colab-df-quickchart-complete:disabled,\n",
              "  .colab-df-quickchart-complete:disabled:hover {\n",
              "    background-color: var(--disabled-bg-color);\n",
              "    fill: var(--disabled-fill-color);\n",
              "    box-shadow: none;\n",
              "  }\n",
              "\n",
              "  .colab-df-spinner {\n",
              "    border: 2px solid var(--fill-color);\n",
              "    border-color: transparent;\n",
              "    border-bottom-color: var(--fill-color);\n",
              "    animation:\n",
              "      spin 1s steps(1) infinite;\n",
              "  }\n",
              "\n",
              "  @keyframes spin {\n",
              "    0% {\n",
              "      border-color: transparent;\n",
              "      border-bottom-color: var(--fill-color);\n",
              "      border-left-color: var(--fill-color);\n",
              "    }\n",
              "    20% {\n",
              "      border-color: transparent;\n",
              "      border-left-color: var(--fill-color);\n",
              "      border-top-color: var(--fill-color);\n",
              "    }\n",
              "    30% {\n",
              "      border-color: transparent;\n",
              "      border-left-color: var(--fill-color);\n",
              "      border-top-color: var(--fill-color);\n",
              "      border-right-color: var(--fill-color);\n",
              "    }\n",
              "    40% {\n",
              "      border-color: transparent;\n",
              "      border-right-color: var(--fill-color);\n",
              "      border-top-color: var(--fill-color);\n",
              "    }\n",
              "    60% {\n",
              "      border-color: transparent;\n",
              "      border-right-color: var(--fill-color);\n",
              "    }\n",
              "    80% {\n",
              "      border-color: transparent;\n",
              "      border-right-color: var(--fill-color);\n",
              "      border-bottom-color: var(--fill-color);\n",
              "    }\n",
              "    90% {\n",
              "      border-color: transparent;\n",
              "      border-bottom-color: var(--fill-color);\n",
              "    }\n",
              "  }\n",
              "</style>\n",
              "\n",
              "  <script>\n",
              "    async function quickchart(key) {\n",
              "      const quickchartButtonEl =\n",
              "        document.querySelector('#' + key + ' button');\n",
              "      quickchartButtonEl.disabled = true;  // To prevent multiple clicks.\n",
              "      quickchartButtonEl.classList.add('colab-df-spinner');\n",
              "      try {\n",
              "        const charts = await google.colab.kernel.invokeFunction(\n",
              "            'suggestCharts', [key], {});\n",
              "      } catch (error) {\n",
              "        console.error('Error during call to suggestCharts:', error);\n",
              "      }\n",
              "      quickchartButtonEl.classList.remove('colab-df-spinner');\n",
              "      quickchartButtonEl.classList.add('colab-df-quickchart-complete');\n",
              "    }\n",
              "    (() => {\n",
              "      let quickchartButtonEl =\n",
              "        document.querySelector('#df-a630c393-bd12-46b9-8e3c-b723cc7b7e03 button');\n",
              "      quickchartButtonEl.style.display =\n",
              "        google.colab.kernel.accessAllowed ? 'block' : 'none';\n",
              "    })();\n",
              "  </script>\n",
              "</div>\n",
              "\n",
              "    </div>\n",
              "  </div>\n"
            ],
            "application/vnd.google.colaboratory.intrinsic+json": {
              "type": "dataframe",
              "variable_name": "dataset",
              "summary": "{\n  \"name\": \"dataset\",\n  \"rows\": 309,\n  \"fields\": [\n    {\n      \"column\": \"GENDER\",\n      \"properties\": {\n        \"dtype\": \"category\",\n        \"num_unique_values\": 2,\n        \"samples\": [\n          \"F\",\n          \"M\"\n        ],\n        \"semantic_type\": \"\",\n        \"description\": \"\"\n      }\n    },\n    {\n      \"column\": \"AGE\",\n      \"properties\": {\n        \"dtype\": \"number\",\n        \"std\": 8,\n        \"min\": 21,\n        \"max\": 87,\n        \"num_unique_values\": 39,\n        \"samples\": [\n          81,\n          39\n        ],\n        \"semantic_type\": \"\",\n        \"description\": \"\"\n      }\n    },\n    {\n      \"column\": \"SMOKING\",\n      \"properties\": {\n        \"dtype\": \"number\",\n        \"std\": 0,\n        \"min\": 1,\n        \"max\": 2,\n        \"num_unique_values\": 2,\n        \"samples\": [\n          2,\n          1\n        ],\n        \"semantic_type\": \"\",\n        \"description\": \"\"\n      }\n    },\n    {\n      \"column\": \"YELLOW_FINGERS\",\n      \"properties\": {\n        \"dtype\": \"number\",\n        \"std\": 0,\n        \"min\": 1,\n        \"max\": 2,\n        \"num_unique_values\": 2,\n        \"samples\": [\n          1,\n          2\n        ],\n        \"semantic_type\": \"\",\n        \"description\": \"\"\n      }\n    },\n    {\n      \"column\": \"ANXIETY\",\n      \"properties\": {\n        \"dtype\": \"number\",\n        \"std\": 0,\n        \"min\": 1,\n        \"max\": 2,\n        \"num_unique_values\": 2,\n        \"samples\": [\n          1,\n          2\n        ],\n        \"semantic_type\": \"\",\n        \"description\": \"\"\n      }\n    },\n    {\n      \"column\": \"PEER_PRESSURE\",\n      \"properties\": {\n        \"dtype\": \"number\",\n        \"std\": 0,\n        \"min\": 1,\n        \"max\": 2,\n        \"num_unique_values\": 2,\n        \"samples\": [\n          2,\n          1\n        ],\n        \"semantic_type\": \"\",\n        \"description\": \"\"\n      }\n    },\n    {\n      \"column\": \"CHRONIC DISEASE\",\n      \"properties\": {\n        \"dtype\": \"number\",\n        \"std\": 0,\n        \"min\": 1,\n        \"max\": 2,\n        \"num_unique_values\": 2,\n        \"samples\": [\n          2,\n          1\n        ],\n        \"semantic_type\": \"\",\n        \"description\": \"\"\n      }\n    },\n    {\n      \"column\": \"FATIGUE \",\n      \"properties\": {\n        \"dtype\": \"number\",\n        \"std\": 0,\n        \"min\": 1,\n        \"max\": 2,\n        \"num_unique_values\": 2,\n        \"samples\": [\n          1,\n          2\n        ],\n        \"semantic_type\": \"\",\n        \"description\": \"\"\n      }\n    },\n    {\n      \"column\": \"ALLERGY \",\n      \"properties\": {\n        \"dtype\": \"number\",\n        \"std\": 0,\n        \"min\": 1,\n        \"max\": 2,\n        \"num_unique_values\": 2,\n        \"samples\": [\n          2,\n          1\n        ],\n        \"semantic_type\": \"\",\n        \"description\": \"\"\n      }\n    },\n    {\n      \"column\": \"WHEEZING\",\n      \"properties\": {\n        \"dtype\": \"number\",\n        \"std\": 0,\n        \"min\": 1,\n        \"max\": 2,\n        \"num_unique_values\": 2,\n        \"samples\": [\n          1,\n          2\n        ],\n        \"semantic_type\": \"\",\n        \"description\": \"\"\n      }\n    },\n    {\n      \"column\": \"ALCOHOL CONSUMING\",\n      \"properties\": {\n        \"dtype\": \"number\",\n        \"std\": 0,\n        \"min\": 1,\n        \"max\": 2,\n        \"num_unique_values\": 2,\n        \"samples\": [\n          1,\n          2\n        ],\n        \"semantic_type\": \"\",\n        \"description\": \"\"\n      }\n    },\n    {\n      \"column\": \"COUGHING\",\n      \"properties\": {\n        \"dtype\": \"number\",\n        \"std\": 0,\n        \"min\": 1,\n        \"max\": 2,\n        \"num_unique_values\": 2,\n        \"samples\": [\n          1,\n          2\n        ],\n        \"semantic_type\": \"\",\n        \"description\": \"\"\n      }\n    },\n    {\n      \"column\": \"SHORTNESS OF BREATH\",\n      \"properties\": {\n        \"dtype\": \"number\",\n        \"std\": 0,\n        \"min\": 1,\n        \"max\": 2,\n        \"num_unique_values\": 2,\n        \"samples\": [\n          1,\n          2\n        ],\n        \"semantic_type\": \"\",\n        \"description\": \"\"\n      }\n    },\n    {\n      \"column\": \"SWALLOWING DIFFICULTY\",\n      \"properties\": {\n        \"dtype\": \"number\",\n        \"std\": 0,\n        \"min\": 1,\n        \"max\": 2,\n        \"num_unique_values\": 2,\n        \"samples\": [\n          1,\n          2\n        ],\n        \"semantic_type\": \"\",\n        \"description\": \"\"\n      }\n    },\n    {\n      \"column\": \"CHEST PAIN\",\n      \"properties\": {\n        \"dtype\": \"number\",\n        \"std\": 0,\n        \"min\": 1,\n        \"max\": 2,\n        \"num_unique_values\": 2,\n        \"samples\": [\n          1,\n          2\n        ],\n        \"semantic_type\": \"\",\n        \"description\": \"\"\n      }\n    },\n    {\n      \"column\": \"LUNG_CANCER\",\n      \"properties\": {\n        \"dtype\": \"category\",\n        \"num_unique_values\": 2,\n        \"samples\": [\n          \"NO\",\n          \"YES\"\n        ],\n        \"semantic_type\": \"\",\n        \"description\": \"\"\n      }\n    }\n  ]\n}"
            }
          },
          "metadata": {},
          "execution_count": 363
        }
      ]
    },
    {
      "cell_type": "code",
      "source": [
        "dataset.info() # Summary of the Dataframe"
      ],
      "metadata": {
        "id": "iIKlkqqcwJ-8",
        "colab": {
          "base_uri": "https://localhost:8080/"
        },
        "outputId": "528122f6-4902-4ee2-c803-52b57979c58a"
      },
      "execution_count": 364,
      "outputs": [
        {
          "output_type": "stream",
          "name": "stdout",
          "text": [
            "<class 'pandas.core.frame.DataFrame'>\n",
            "RangeIndex: 309 entries, 0 to 308\n",
            "Data columns (total 16 columns):\n",
            " #   Column                 Non-Null Count  Dtype \n",
            "---  ------                 --------------  ----- \n",
            " 0   GENDER                 309 non-null    object\n",
            " 1   AGE                    309 non-null    int64 \n",
            " 2   SMOKING                309 non-null    int64 \n",
            " 3   YELLOW_FINGERS         309 non-null    int64 \n",
            " 4   ANXIETY                309 non-null    int64 \n",
            " 5   PEER_PRESSURE          309 non-null    int64 \n",
            " 6   CHRONIC DISEASE        309 non-null    int64 \n",
            " 7   FATIGUE                309 non-null    int64 \n",
            " 8   ALLERGY                309 non-null    int64 \n",
            " 9   WHEEZING               309 non-null    int64 \n",
            " 10  ALCOHOL CONSUMING      309 non-null    int64 \n",
            " 11  COUGHING               309 non-null    int64 \n",
            " 12  SHORTNESS OF BREATH    309 non-null    int64 \n",
            " 13  SWALLOWING DIFFICULTY  309 non-null    int64 \n",
            " 14  CHEST PAIN             309 non-null    int64 \n",
            " 15  LUNG_CANCER            309 non-null    object\n",
            "dtypes: int64(14), object(2)\n",
            "memory usage: 38.8+ KB\n"
          ]
        }
      ]
    },
    {
      "cell_type": "markdown",
      "source": [
        "**Data Cleaning**"
      ],
      "metadata": {
        "id": "c5NNNWOSEV7e"
      }
    },
    {
      "cell_type": "code",
      "source": [
        "dataset = dataset.drop_duplicates() # Eliminate any duplicate data"
      ],
      "metadata": {
        "id": "RdL4eHkzwL7L"
      },
      "execution_count": 365,
      "outputs": []
    },
    {
      "cell_type": "code",
      "source": [
        "dataset.shape"
      ],
      "metadata": {
        "id": "X20LfADpwNZp",
        "colab": {
          "base_uri": "https://localhost:8080/"
        },
        "outputId": "b7b482d8-db10-4f64-a9c9-dfba03e04d96"
      },
      "execution_count": 366,
      "outputs": [
        {
          "output_type": "execute_result",
          "data": {
            "text/plain": [
              "(276, 16)"
            ]
          },
          "metadata": {},
          "execution_count": 366
        }
      ]
    },
    {
      "cell_type": "code",
      "source": [
        "# Mapping for categorical variables\n",
        "maper = {\"M\": 1, \"F\": 0, 1: 0, 2: 1, \"YES\": 1, \"NO\": 0}\n",
        "dataset = dataset.copy()\n",
        "\n",
        "# Apply maper to each element in the DataFrame\n",
        "dataset_new = dataset.applymap(lambda x: maper.get(x))\n",
        "dataset_new[\"AGE\"] = dataset[\"AGE\"]"
      ],
      "metadata": {
        "id": "xQF14VEsqQkN"
      },
      "execution_count": 367,
      "outputs": []
    },
    {
      "cell_type": "code",
      "source": [
        "dataset_new # Display the transformed DataFrame"
      ],
      "metadata": {
        "colab": {
          "base_uri": "https://localhost:8080/",
          "height": 456
        },
        "id": "TYgtJrLLfPP5",
        "outputId": "19c506a1-b654-47ed-a463-f8ecc4ca1866"
      },
      "execution_count": 368,
      "outputs": [
        {
          "output_type": "execute_result",
          "data": {
            "text/plain": [
              "     GENDER  AGE  SMOKING  YELLOW_FINGERS  ANXIETY  PEER_PRESSURE  \\\n",
              "0         1   69        0               1        1              0   \n",
              "1         1   74        1               0        0              0   \n",
              "2         0   59        0               0        0              1   \n",
              "3         1   63        1               1        1              0   \n",
              "4         0   63        0               1        0              0   \n",
              "..      ...  ...      ...             ...      ...            ...   \n",
              "279       0   59        0               1        1              1   \n",
              "280       0   59        1               0        0              0   \n",
              "281       1   55        1               0        0              0   \n",
              "282       1   46        0               1        1              0   \n",
              "283       1   60        0               1        1              0   \n",
              "\n",
              "     CHRONIC DISEASE  FATIGUE   ALLERGY   WHEEZING  ALCOHOL CONSUMING  \\\n",
              "0                  0         1         0         1                  1   \n",
              "1                  1         1         1         0                  0   \n",
              "2                  0         1         0         1                  0   \n",
              "3                  0         0         0         0                  1   \n",
              "4                  0         0         0         1                  0   \n",
              "..               ...       ...       ...       ...                ...   \n",
              "279                0         0         1         1                  0   \n",
              "280                1         1         1         0                  0   \n",
              "281                0         1         1         0                  0   \n",
              "282                0         0         0         0                  0   \n",
              "283                0         1         0         1                  1   \n",
              "\n",
              "     COUGHING  SHORTNESS OF BREATH  SWALLOWING DIFFICULTY  CHEST PAIN  \\\n",
              "0           1                    1                      1           1   \n",
              "1           0                    1                      1           1   \n",
              "2           1                    1                      0           1   \n",
              "3           0                    0                      1           1   \n",
              "4           1                    1                      0           0   \n",
              "..        ...                  ...                    ...         ...   \n",
              "279         1                    0                      1           0   \n",
              "280         0                    1                      0           0   \n",
              "281         0                    1                      0           1   \n",
              "282         0                    0                      1           1   \n",
              "283         1                    1                      1           1   \n",
              "\n",
              "     LUNG_CANCER  \n",
              "0              1  \n",
              "1              1  \n",
              "2              0  \n",
              "3              0  \n",
              "4              0  \n",
              "..           ...  \n",
              "279            1  \n",
              "280            0  \n",
              "281            0  \n",
              "282            0  \n",
              "283            1  \n",
              "\n",
              "[276 rows x 16 columns]"
            ],
            "text/html": [
              "\n",
              "  <div id=\"df-e8a17e04-6152-4867-8143-eb5c099bf366\" class=\"colab-df-container\">\n",
              "    <div>\n",
              "<style scoped>\n",
              "    .dataframe tbody tr th:only-of-type {\n",
              "        vertical-align: middle;\n",
              "    }\n",
              "\n",
              "    .dataframe tbody tr th {\n",
              "        vertical-align: top;\n",
              "    }\n",
              "\n",
              "    .dataframe thead th {\n",
              "        text-align: right;\n",
              "    }\n",
              "</style>\n",
              "<table border=\"1\" class=\"dataframe\">\n",
              "  <thead>\n",
              "    <tr style=\"text-align: right;\">\n",
              "      <th></th>\n",
              "      <th>GENDER</th>\n",
              "      <th>AGE</th>\n",
              "      <th>SMOKING</th>\n",
              "      <th>YELLOW_FINGERS</th>\n",
              "      <th>ANXIETY</th>\n",
              "      <th>PEER_PRESSURE</th>\n",
              "      <th>CHRONIC DISEASE</th>\n",
              "      <th>FATIGUE</th>\n",
              "      <th>ALLERGY</th>\n",
              "      <th>WHEEZING</th>\n",
              "      <th>ALCOHOL CONSUMING</th>\n",
              "      <th>COUGHING</th>\n",
              "      <th>SHORTNESS OF BREATH</th>\n",
              "      <th>SWALLOWING DIFFICULTY</th>\n",
              "      <th>CHEST PAIN</th>\n",
              "      <th>LUNG_CANCER</th>\n",
              "    </tr>\n",
              "  </thead>\n",
              "  <tbody>\n",
              "    <tr>\n",
              "      <th>0</th>\n",
              "      <td>1</td>\n",
              "      <td>69</td>\n",
              "      <td>0</td>\n",
              "      <td>1</td>\n",
              "      <td>1</td>\n",
              "      <td>0</td>\n",
              "      <td>0</td>\n",
              "      <td>1</td>\n",
              "      <td>0</td>\n",
              "      <td>1</td>\n",
              "      <td>1</td>\n",
              "      <td>1</td>\n",
              "      <td>1</td>\n",
              "      <td>1</td>\n",
              "      <td>1</td>\n",
              "      <td>1</td>\n",
              "    </tr>\n",
              "    <tr>\n",
              "      <th>1</th>\n",
              "      <td>1</td>\n",
              "      <td>74</td>\n",
              "      <td>1</td>\n",
              "      <td>0</td>\n",
              "      <td>0</td>\n",
              "      <td>0</td>\n",
              "      <td>1</td>\n",
              "      <td>1</td>\n",
              "      <td>1</td>\n",
              "      <td>0</td>\n",
              "      <td>0</td>\n",
              "      <td>0</td>\n",
              "      <td>1</td>\n",
              "      <td>1</td>\n",
              "      <td>1</td>\n",
              "      <td>1</td>\n",
              "    </tr>\n",
              "    <tr>\n",
              "      <th>2</th>\n",
              "      <td>0</td>\n",
              "      <td>59</td>\n",
              "      <td>0</td>\n",
              "      <td>0</td>\n",
              "      <td>0</td>\n",
              "      <td>1</td>\n",
              "      <td>0</td>\n",
              "      <td>1</td>\n",
              "      <td>0</td>\n",
              "      <td>1</td>\n",
              "      <td>0</td>\n",
              "      <td>1</td>\n",
              "      <td>1</td>\n",
              "      <td>0</td>\n",
              "      <td>1</td>\n",
              "      <td>0</td>\n",
              "    </tr>\n",
              "    <tr>\n",
              "      <th>3</th>\n",
              "      <td>1</td>\n",
              "      <td>63</td>\n",
              "      <td>1</td>\n",
              "      <td>1</td>\n",
              "      <td>1</td>\n",
              "      <td>0</td>\n",
              "      <td>0</td>\n",
              "      <td>0</td>\n",
              "      <td>0</td>\n",
              "      <td>0</td>\n",
              "      <td>1</td>\n",
              "      <td>0</td>\n",
              "      <td>0</td>\n",
              "      <td>1</td>\n",
              "      <td>1</td>\n",
              "      <td>0</td>\n",
              "    </tr>\n",
              "    <tr>\n",
              "      <th>4</th>\n",
              "      <td>0</td>\n",
              "      <td>63</td>\n",
              "      <td>0</td>\n",
              "      <td>1</td>\n",
              "      <td>0</td>\n",
              "      <td>0</td>\n",
              "      <td>0</td>\n",
              "      <td>0</td>\n",
              "      <td>0</td>\n",
              "      <td>1</td>\n",
              "      <td>0</td>\n",
              "      <td>1</td>\n",
              "      <td>1</td>\n",
              "      <td>0</td>\n",
              "      <td>0</td>\n",
              "      <td>0</td>\n",
              "    </tr>\n",
              "    <tr>\n",
              "      <th>...</th>\n",
              "      <td>...</td>\n",
              "      <td>...</td>\n",
              "      <td>...</td>\n",
              "      <td>...</td>\n",
              "      <td>...</td>\n",
              "      <td>...</td>\n",
              "      <td>...</td>\n",
              "      <td>...</td>\n",
              "      <td>...</td>\n",
              "      <td>...</td>\n",
              "      <td>...</td>\n",
              "      <td>...</td>\n",
              "      <td>...</td>\n",
              "      <td>...</td>\n",
              "      <td>...</td>\n",
              "      <td>...</td>\n",
              "    </tr>\n",
              "    <tr>\n",
              "      <th>279</th>\n",
              "      <td>0</td>\n",
              "      <td>59</td>\n",
              "      <td>0</td>\n",
              "      <td>1</td>\n",
              "      <td>1</td>\n",
              "      <td>1</td>\n",
              "      <td>0</td>\n",
              "      <td>0</td>\n",
              "      <td>1</td>\n",
              "      <td>1</td>\n",
              "      <td>0</td>\n",
              "      <td>1</td>\n",
              "      <td>0</td>\n",
              "      <td>1</td>\n",
              "      <td>0</td>\n",
              "      <td>1</td>\n",
              "    </tr>\n",
              "    <tr>\n",
              "      <th>280</th>\n",
              "      <td>0</td>\n",
              "      <td>59</td>\n",
              "      <td>1</td>\n",
              "      <td>0</td>\n",
              "      <td>0</td>\n",
              "      <td>0</td>\n",
              "      <td>1</td>\n",
              "      <td>1</td>\n",
              "      <td>1</td>\n",
              "      <td>0</td>\n",
              "      <td>0</td>\n",
              "      <td>0</td>\n",
              "      <td>1</td>\n",
              "      <td>0</td>\n",
              "      <td>0</td>\n",
              "      <td>0</td>\n",
              "    </tr>\n",
              "    <tr>\n",
              "      <th>281</th>\n",
              "      <td>1</td>\n",
              "      <td>55</td>\n",
              "      <td>1</td>\n",
              "      <td>0</td>\n",
              "      <td>0</td>\n",
              "      <td>0</td>\n",
              "      <td>0</td>\n",
              "      <td>1</td>\n",
              "      <td>1</td>\n",
              "      <td>0</td>\n",
              "      <td>0</td>\n",
              "      <td>0</td>\n",
              "      <td>1</td>\n",
              "      <td>0</td>\n",
              "      <td>1</td>\n",
              "      <td>0</td>\n",
              "    </tr>\n",
              "    <tr>\n",
              "      <th>282</th>\n",
              "      <td>1</td>\n",
              "      <td>46</td>\n",
              "      <td>0</td>\n",
              "      <td>1</td>\n",
              "      <td>1</td>\n",
              "      <td>0</td>\n",
              "      <td>0</td>\n",
              "      <td>0</td>\n",
              "      <td>0</td>\n",
              "      <td>0</td>\n",
              "      <td>0</td>\n",
              "      <td>0</td>\n",
              "      <td>0</td>\n",
              "      <td>1</td>\n",
              "      <td>1</td>\n",
              "      <td>0</td>\n",
              "    </tr>\n",
              "    <tr>\n",
              "      <th>283</th>\n",
              "      <td>1</td>\n",
              "      <td>60</td>\n",
              "      <td>0</td>\n",
              "      <td>1</td>\n",
              "      <td>1</td>\n",
              "      <td>0</td>\n",
              "      <td>0</td>\n",
              "      <td>1</td>\n",
              "      <td>0</td>\n",
              "      <td>1</td>\n",
              "      <td>1</td>\n",
              "      <td>1</td>\n",
              "      <td>1</td>\n",
              "      <td>1</td>\n",
              "      <td>1</td>\n",
              "      <td>1</td>\n",
              "    </tr>\n",
              "  </tbody>\n",
              "</table>\n",
              "<p>276 rows × 16 columns</p>\n",
              "</div>\n",
              "    <div class=\"colab-df-buttons\">\n",
              "\n",
              "  <div class=\"colab-df-container\">\n",
              "    <button class=\"colab-df-convert\" onclick=\"convertToInteractive('df-e8a17e04-6152-4867-8143-eb5c099bf366')\"\n",
              "            title=\"Convert this dataframe to an interactive table.\"\n",
              "            style=\"display:none;\">\n",
              "\n",
              "  <svg xmlns=\"http://www.w3.org/2000/svg\" height=\"24px\" viewBox=\"0 -960 960 960\">\n",
              "    <path d=\"M120-120v-720h720v720H120Zm60-500h600v-160H180v160Zm220 220h160v-160H400v160Zm0 220h160v-160H400v160ZM180-400h160v-160H180v160Zm440 0h160v-160H620v160ZM180-180h160v-160H180v160Zm440 0h160v-160H620v160Z\"/>\n",
              "  </svg>\n",
              "    </button>\n",
              "\n",
              "  <style>\n",
              "    .colab-df-container {\n",
              "      display:flex;\n",
              "      gap: 12px;\n",
              "    }\n",
              "\n",
              "    .colab-df-convert {\n",
              "      background-color: #E8F0FE;\n",
              "      border: none;\n",
              "      border-radius: 50%;\n",
              "      cursor: pointer;\n",
              "      display: none;\n",
              "      fill: #1967D2;\n",
              "      height: 32px;\n",
              "      padding: 0 0 0 0;\n",
              "      width: 32px;\n",
              "    }\n",
              "\n",
              "    .colab-df-convert:hover {\n",
              "      background-color: #E2EBFA;\n",
              "      box-shadow: 0px 1px 2px rgba(60, 64, 67, 0.3), 0px 1px 3px 1px rgba(60, 64, 67, 0.15);\n",
              "      fill: #174EA6;\n",
              "    }\n",
              "\n",
              "    .colab-df-buttons div {\n",
              "      margin-bottom: 4px;\n",
              "    }\n",
              "\n",
              "    [theme=dark] .colab-df-convert {\n",
              "      background-color: #3B4455;\n",
              "      fill: #D2E3FC;\n",
              "    }\n",
              "\n",
              "    [theme=dark] .colab-df-convert:hover {\n",
              "      background-color: #434B5C;\n",
              "      box-shadow: 0px 1px 3px 1px rgba(0, 0, 0, 0.15);\n",
              "      filter: drop-shadow(0px 1px 2px rgba(0, 0, 0, 0.3));\n",
              "      fill: #FFFFFF;\n",
              "    }\n",
              "  </style>\n",
              "\n",
              "    <script>\n",
              "      const buttonEl =\n",
              "        document.querySelector('#df-e8a17e04-6152-4867-8143-eb5c099bf366 button.colab-df-convert');\n",
              "      buttonEl.style.display =\n",
              "        google.colab.kernel.accessAllowed ? 'block' : 'none';\n",
              "\n",
              "      async function convertToInteractive(key) {\n",
              "        const element = document.querySelector('#df-e8a17e04-6152-4867-8143-eb5c099bf366');\n",
              "        const dataTable =\n",
              "          await google.colab.kernel.invokeFunction('convertToInteractive',\n",
              "                                                    [key], {});\n",
              "        if (!dataTable) return;\n",
              "\n",
              "        const docLinkHtml = 'Like what you see? Visit the ' +\n",
              "          '<a target=\"_blank\" href=https://colab.research.google.com/notebooks/data_table.ipynb>data table notebook</a>'\n",
              "          + ' to learn more about interactive tables.';\n",
              "        element.innerHTML = '';\n",
              "        dataTable['output_type'] = 'display_data';\n",
              "        await google.colab.output.renderOutput(dataTable, element);\n",
              "        const docLink = document.createElement('div');\n",
              "        docLink.innerHTML = docLinkHtml;\n",
              "        element.appendChild(docLink);\n",
              "      }\n",
              "    </script>\n",
              "  </div>\n",
              "\n",
              "\n",
              "<div id=\"df-f1e63460-7cd9-487f-9895-0ee7316b8a4e\">\n",
              "  <button class=\"colab-df-quickchart\" onclick=\"quickchart('df-f1e63460-7cd9-487f-9895-0ee7316b8a4e')\"\n",
              "            title=\"Suggest charts\"\n",
              "            style=\"display:none;\">\n",
              "\n",
              "<svg xmlns=\"http://www.w3.org/2000/svg\" height=\"24px\"viewBox=\"0 0 24 24\"\n",
              "     width=\"24px\">\n",
              "    <g>\n",
              "        <path d=\"M19 3H5c-1.1 0-2 .9-2 2v14c0 1.1.9 2 2 2h14c1.1 0 2-.9 2-2V5c0-1.1-.9-2-2-2zM9 17H7v-7h2v7zm4 0h-2V7h2v10zm4 0h-2v-4h2v4z\"/>\n",
              "    </g>\n",
              "</svg>\n",
              "  </button>\n",
              "\n",
              "<style>\n",
              "  .colab-df-quickchart {\n",
              "      --bg-color: #E8F0FE;\n",
              "      --fill-color: #1967D2;\n",
              "      --hover-bg-color: #E2EBFA;\n",
              "      --hover-fill-color: #174EA6;\n",
              "      --disabled-fill-color: #AAA;\n",
              "      --disabled-bg-color: #DDD;\n",
              "  }\n",
              "\n",
              "  [theme=dark] .colab-df-quickchart {\n",
              "      --bg-color: #3B4455;\n",
              "      --fill-color: #D2E3FC;\n",
              "      --hover-bg-color: #434B5C;\n",
              "      --hover-fill-color: #FFFFFF;\n",
              "      --disabled-bg-color: #3B4455;\n",
              "      --disabled-fill-color: #666;\n",
              "  }\n",
              "\n",
              "  .colab-df-quickchart {\n",
              "    background-color: var(--bg-color);\n",
              "    border: none;\n",
              "    border-radius: 50%;\n",
              "    cursor: pointer;\n",
              "    display: none;\n",
              "    fill: var(--fill-color);\n",
              "    height: 32px;\n",
              "    padding: 0;\n",
              "    width: 32px;\n",
              "  }\n",
              "\n",
              "  .colab-df-quickchart:hover {\n",
              "    background-color: var(--hover-bg-color);\n",
              "    box-shadow: 0 1px 2px rgba(60, 64, 67, 0.3), 0 1px 3px 1px rgba(60, 64, 67, 0.15);\n",
              "    fill: var(--button-hover-fill-color);\n",
              "  }\n",
              "\n",
              "  .colab-df-quickchart-complete:disabled,\n",
              "  .colab-df-quickchart-complete:disabled:hover {\n",
              "    background-color: var(--disabled-bg-color);\n",
              "    fill: var(--disabled-fill-color);\n",
              "    box-shadow: none;\n",
              "  }\n",
              "\n",
              "  .colab-df-spinner {\n",
              "    border: 2px solid var(--fill-color);\n",
              "    border-color: transparent;\n",
              "    border-bottom-color: var(--fill-color);\n",
              "    animation:\n",
              "      spin 1s steps(1) infinite;\n",
              "  }\n",
              "\n",
              "  @keyframes spin {\n",
              "    0% {\n",
              "      border-color: transparent;\n",
              "      border-bottom-color: var(--fill-color);\n",
              "      border-left-color: var(--fill-color);\n",
              "    }\n",
              "    20% {\n",
              "      border-color: transparent;\n",
              "      border-left-color: var(--fill-color);\n",
              "      border-top-color: var(--fill-color);\n",
              "    }\n",
              "    30% {\n",
              "      border-color: transparent;\n",
              "      border-left-color: var(--fill-color);\n",
              "      border-top-color: var(--fill-color);\n",
              "      border-right-color: var(--fill-color);\n",
              "    }\n",
              "    40% {\n",
              "      border-color: transparent;\n",
              "      border-right-color: var(--fill-color);\n",
              "      border-top-color: var(--fill-color);\n",
              "    }\n",
              "    60% {\n",
              "      border-color: transparent;\n",
              "      border-right-color: var(--fill-color);\n",
              "    }\n",
              "    80% {\n",
              "      border-color: transparent;\n",
              "      border-right-color: var(--fill-color);\n",
              "      border-bottom-color: var(--fill-color);\n",
              "    }\n",
              "    90% {\n",
              "      border-color: transparent;\n",
              "      border-bottom-color: var(--fill-color);\n",
              "    }\n",
              "  }\n",
              "</style>\n",
              "\n",
              "  <script>\n",
              "    async function quickchart(key) {\n",
              "      const quickchartButtonEl =\n",
              "        document.querySelector('#' + key + ' button');\n",
              "      quickchartButtonEl.disabled = true;  // To prevent multiple clicks.\n",
              "      quickchartButtonEl.classList.add('colab-df-spinner');\n",
              "      try {\n",
              "        const charts = await google.colab.kernel.invokeFunction(\n",
              "            'suggestCharts', [key], {});\n",
              "      } catch (error) {\n",
              "        console.error('Error during call to suggestCharts:', error);\n",
              "      }\n",
              "      quickchartButtonEl.classList.remove('colab-df-spinner');\n",
              "      quickchartButtonEl.classList.add('colab-df-quickchart-complete');\n",
              "    }\n",
              "    (() => {\n",
              "      let quickchartButtonEl =\n",
              "        document.querySelector('#df-f1e63460-7cd9-487f-9895-0ee7316b8a4e button');\n",
              "      quickchartButtonEl.style.display =\n",
              "        google.colab.kernel.accessAllowed ? 'block' : 'none';\n",
              "    })();\n",
              "  </script>\n",
              "</div>\n",
              "\n",
              "  <div id=\"id_bb8635c2-e118-4cdd-9712-8a71d9e3c518\">\n",
              "    <style>\n",
              "      .colab-df-generate {\n",
              "        background-color: #E8F0FE;\n",
              "        border: none;\n",
              "        border-radius: 50%;\n",
              "        cursor: pointer;\n",
              "        display: none;\n",
              "        fill: #1967D2;\n",
              "        height: 32px;\n",
              "        padding: 0 0 0 0;\n",
              "        width: 32px;\n",
              "      }\n",
              "\n",
              "      .colab-df-generate:hover {\n",
              "        background-color: #E2EBFA;\n",
              "        box-shadow: 0px 1px 2px rgba(60, 64, 67, 0.3), 0px 1px 3px 1px rgba(60, 64, 67, 0.15);\n",
              "        fill: #174EA6;\n",
              "      }\n",
              "\n",
              "      [theme=dark] .colab-df-generate {\n",
              "        background-color: #3B4455;\n",
              "        fill: #D2E3FC;\n",
              "      }\n",
              "\n",
              "      [theme=dark] .colab-df-generate:hover {\n",
              "        background-color: #434B5C;\n",
              "        box-shadow: 0px 1px 3px 1px rgba(0, 0, 0, 0.15);\n",
              "        filter: drop-shadow(0px 1px 2px rgba(0, 0, 0, 0.3));\n",
              "        fill: #FFFFFF;\n",
              "      }\n",
              "    </style>\n",
              "    <button class=\"colab-df-generate\" onclick=\"generateWithVariable('dataset_new')\"\n",
              "            title=\"Generate code using this dataframe.\"\n",
              "            style=\"display:none;\">\n",
              "\n",
              "  <svg xmlns=\"http://www.w3.org/2000/svg\" height=\"24px\"viewBox=\"0 0 24 24\"\n",
              "       width=\"24px\">\n",
              "    <path d=\"M7,19H8.4L18.45,9,17,7.55,7,17.6ZM5,21V16.75L18.45,3.32a2,2,0,0,1,2.83,0l1.4,1.43a1.91,1.91,0,0,1,.58,1.4,1.91,1.91,0,0,1-.58,1.4L9.25,21ZM18.45,9,17,7.55Zm-12,3A5.31,5.31,0,0,0,4.9,8.1,5.31,5.31,0,0,0,1,6.5,5.31,5.31,0,0,0,4.9,4.9,5.31,5.31,0,0,0,6.5,1,5.31,5.31,0,0,0,8.1,4.9,5.31,5.31,0,0,0,12,6.5,5.46,5.46,0,0,0,6.5,12Z\"/>\n",
              "  </svg>\n",
              "    </button>\n",
              "    <script>\n",
              "      (() => {\n",
              "      const buttonEl =\n",
              "        document.querySelector('#id_bb8635c2-e118-4cdd-9712-8a71d9e3c518 button.colab-df-generate');\n",
              "      buttonEl.style.display =\n",
              "        google.colab.kernel.accessAllowed ? 'block' : 'none';\n",
              "\n",
              "      buttonEl.onclick = () => {\n",
              "        google.colab.notebook.generateWithVariable('dataset_new');\n",
              "      }\n",
              "      })();\n",
              "    </script>\n",
              "  </div>\n",
              "\n",
              "    </div>\n",
              "  </div>\n"
            ],
            "application/vnd.google.colaboratory.intrinsic+json": {
              "type": "dataframe",
              "variable_name": "dataset_new",
              "summary": "{\n  \"name\": \"dataset_new\",\n  \"rows\": 276,\n  \"fields\": [\n    {\n      \"column\": \"GENDER\",\n      \"properties\": {\n        \"dtype\": \"number\",\n        \"std\": 0,\n        \"min\": 0,\n        \"max\": 1,\n        \"num_unique_values\": 2,\n        \"samples\": [\n          0,\n          1\n        ],\n        \"semantic_type\": \"\",\n        \"description\": \"\"\n      }\n    },\n    {\n      \"column\": \"AGE\",\n      \"properties\": {\n        \"dtype\": \"number\",\n        \"std\": 8,\n        \"min\": 21,\n        \"max\": 87,\n        \"num_unique_values\": 39,\n        \"samples\": [\n          81,\n          39\n        ],\n        \"semantic_type\": \"\",\n        \"description\": \"\"\n      }\n    },\n    {\n      \"column\": \"SMOKING\",\n      \"properties\": {\n        \"dtype\": \"number\",\n        \"std\": 0,\n        \"min\": 0,\n        \"max\": 1,\n        \"num_unique_values\": 2,\n        \"samples\": [\n          1,\n          0\n        ],\n        \"semantic_type\": \"\",\n        \"description\": \"\"\n      }\n    },\n    {\n      \"column\": \"YELLOW_FINGERS\",\n      \"properties\": {\n        \"dtype\": \"number\",\n        \"std\": 0,\n        \"min\": 0,\n        \"max\": 1,\n        \"num_unique_values\": 2,\n        \"samples\": [\n          0,\n          1\n        ],\n        \"semantic_type\": \"\",\n        \"description\": \"\"\n      }\n    },\n    {\n      \"column\": \"ANXIETY\",\n      \"properties\": {\n        \"dtype\": \"number\",\n        \"std\": 0,\n        \"min\": 0,\n        \"max\": 1,\n        \"num_unique_values\": 2,\n        \"samples\": [\n          0,\n          1\n        ],\n        \"semantic_type\": \"\",\n        \"description\": \"\"\n      }\n    },\n    {\n      \"column\": \"PEER_PRESSURE\",\n      \"properties\": {\n        \"dtype\": \"number\",\n        \"std\": 0,\n        \"min\": 0,\n        \"max\": 1,\n        \"num_unique_values\": 2,\n        \"samples\": [\n          1,\n          0\n        ],\n        \"semantic_type\": \"\",\n        \"description\": \"\"\n      }\n    },\n    {\n      \"column\": \"CHRONIC DISEASE\",\n      \"properties\": {\n        \"dtype\": \"number\",\n        \"std\": 0,\n        \"min\": 0,\n        \"max\": 1,\n        \"num_unique_values\": 2,\n        \"samples\": [\n          1,\n          0\n        ],\n        \"semantic_type\": \"\",\n        \"description\": \"\"\n      }\n    },\n    {\n      \"column\": \"FATIGUE \",\n      \"properties\": {\n        \"dtype\": \"number\",\n        \"std\": 0,\n        \"min\": 0,\n        \"max\": 1,\n        \"num_unique_values\": 2,\n        \"samples\": [\n          0,\n          1\n        ],\n        \"semantic_type\": \"\",\n        \"description\": \"\"\n      }\n    },\n    {\n      \"column\": \"ALLERGY \",\n      \"properties\": {\n        \"dtype\": \"number\",\n        \"std\": 0,\n        \"min\": 0,\n        \"max\": 1,\n        \"num_unique_values\": 2,\n        \"samples\": [\n          1,\n          0\n        ],\n        \"semantic_type\": \"\",\n        \"description\": \"\"\n      }\n    },\n    {\n      \"column\": \"WHEEZING\",\n      \"properties\": {\n        \"dtype\": \"number\",\n        \"std\": 0,\n        \"min\": 0,\n        \"max\": 1,\n        \"num_unique_values\": 2,\n        \"samples\": [\n          0,\n          1\n        ],\n        \"semantic_type\": \"\",\n        \"description\": \"\"\n      }\n    },\n    {\n      \"column\": \"ALCOHOL CONSUMING\",\n      \"properties\": {\n        \"dtype\": \"number\",\n        \"std\": 0,\n        \"min\": 0,\n        \"max\": 1,\n        \"num_unique_values\": 2,\n        \"samples\": [\n          0,\n          1\n        ],\n        \"semantic_type\": \"\",\n        \"description\": \"\"\n      }\n    },\n    {\n      \"column\": \"COUGHING\",\n      \"properties\": {\n        \"dtype\": \"number\",\n        \"std\": 0,\n        \"min\": 0,\n        \"max\": 1,\n        \"num_unique_values\": 2,\n        \"samples\": [\n          0,\n          1\n        ],\n        \"semantic_type\": \"\",\n        \"description\": \"\"\n      }\n    },\n    {\n      \"column\": \"SHORTNESS OF BREATH\",\n      \"properties\": {\n        \"dtype\": \"number\",\n        \"std\": 0,\n        \"min\": 0,\n        \"max\": 1,\n        \"num_unique_values\": 2,\n        \"samples\": [\n          0,\n          1\n        ],\n        \"semantic_type\": \"\",\n        \"description\": \"\"\n      }\n    },\n    {\n      \"column\": \"SWALLOWING DIFFICULTY\",\n      \"properties\": {\n        \"dtype\": \"number\",\n        \"std\": 0,\n        \"min\": 0,\n        \"max\": 1,\n        \"num_unique_values\": 2,\n        \"samples\": [\n          0,\n          1\n        ],\n        \"semantic_type\": \"\",\n        \"description\": \"\"\n      }\n    },\n    {\n      \"column\": \"CHEST PAIN\",\n      \"properties\": {\n        \"dtype\": \"number\",\n        \"std\": 0,\n        \"min\": 0,\n        \"max\": 1,\n        \"num_unique_values\": 2,\n        \"samples\": [\n          0,\n          1\n        ],\n        \"semantic_type\": \"\",\n        \"description\": \"\"\n      }\n    },\n    {\n      \"column\": \"LUNG_CANCER\",\n      \"properties\": {\n        \"dtype\": \"number\",\n        \"std\": 0,\n        \"min\": 0,\n        \"max\": 1,\n        \"num_unique_values\": 2,\n        \"samples\": [\n          0,\n          1\n        ],\n        \"semantic_type\": \"\",\n        \"description\": \"\"\n      }\n    }\n  ]\n}"
            }
          },
          "metadata": {},
          "execution_count": 368
        }
      ]
    },
    {
      "cell_type": "code",
      "source": [
        "dataset_new.info() # Summary of dataframe after data cleaning"
      ],
      "metadata": {
        "id": "8aKcLQWPJEEP",
        "colab": {
          "base_uri": "https://localhost:8080/"
        },
        "outputId": "4bb1da05-9940-4113-db52-a2ee705773e7"
      },
      "execution_count": 369,
      "outputs": [
        {
          "output_type": "stream",
          "name": "stdout",
          "text": [
            "<class 'pandas.core.frame.DataFrame'>\n",
            "Index: 276 entries, 0 to 283\n",
            "Data columns (total 16 columns):\n",
            " #   Column                 Non-Null Count  Dtype\n",
            "---  ------                 --------------  -----\n",
            " 0   GENDER                 276 non-null    int64\n",
            " 1   AGE                    276 non-null    int64\n",
            " 2   SMOKING                276 non-null    int64\n",
            " 3   YELLOW_FINGERS         276 non-null    int64\n",
            " 4   ANXIETY                276 non-null    int64\n",
            " 5   PEER_PRESSURE          276 non-null    int64\n",
            " 6   CHRONIC DISEASE        276 non-null    int64\n",
            " 7   FATIGUE                276 non-null    int64\n",
            " 8   ALLERGY                276 non-null    int64\n",
            " 9   WHEEZING               276 non-null    int64\n",
            " 10  ALCOHOL CONSUMING      276 non-null    int64\n",
            " 11  COUGHING               276 non-null    int64\n",
            " 12  SHORTNESS OF BREATH    276 non-null    int64\n",
            " 13  SWALLOWING DIFFICULTY  276 non-null    int64\n",
            " 14  CHEST PAIN             276 non-null    int64\n",
            " 15  LUNG_CANCER            276 non-null    int64\n",
            "dtypes: int64(16)\n",
            "memory usage: 36.7 KB\n"
          ]
        }
      ]
    },
    {
      "cell_type": "code",
      "source": [
        "dataset_new.describe()"
      ],
      "metadata": {
        "id": "_AUriyGW_Hd7",
        "colab": {
          "base_uri": "https://localhost:8080/",
          "height": 334
        },
        "outputId": "b6c37ee7-2f4d-46a9-a415-c6922a07311f"
      },
      "execution_count": 370,
      "outputs": [
        {
          "output_type": "execute_result",
          "data": {
            "text/plain": [
              "           GENDER         AGE     SMOKING  YELLOW_FINGERS     ANXIETY  \\\n",
              "count  276.000000  276.000000  276.000000      276.000000  276.000000   \n",
              "mean     0.514493   62.909420    0.543478        0.576087    0.496377   \n",
              "std      0.500698    8.379355    0.499011        0.495075    0.500895   \n",
              "min      0.000000   21.000000    0.000000        0.000000    0.000000   \n",
              "25%      0.000000   57.750000    0.000000        0.000000    0.000000   \n",
              "50%      1.000000   62.500000    1.000000        1.000000    0.000000   \n",
              "75%      1.000000   69.000000    1.000000        1.000000    1.000000   \n",
              "max      1.000000   87.000000    1.000000        1.000000    1.000000   \n",
              "\n",
              "       PEER_PRESSURE  CHRONIC DISEASE    FATIGUE     ALLERGY     WHEEZING  \\\n",
              "count     276.000000       276.000000  276.000000  276.000000  276.000000   \n",
              "mean        0.507246         0.521739    0.663043    0.547101    0.547101   \n",
              "std         0.500856         0.500435    0.473529    0.498681    0.498681   \n",
              "min         0.000000         0.000000    0.000000    0.000000    0.000000   \n",
              "25%         0.000000         0.000000    0.000000    0.000000    0.000000   \n",
              "50%         1.000000         1.000000    1.000000    1.000000    1.000000   \n",
              "75%         1.000000         1.000000    1.000000    1.000000    1.000000   \n",
              "max         1.000000         1.000000    1.000000    1.000000    1.000000   \n",
              "\n",
              "       ALCOHOL CONSUMING    COUGHING  SHORTNESS OF BREATH  \\\n",
              "count         276.000000  276.000000           276.000000   \n",
              "mean            0.550725    0.576087             0.630435   \n",
              "std             0.498324    0.495075             0.483564   \n",
              "min             0.000000    0.000000             0.000000   \n",
              "25%             0.000000    0.000000             0.000000   \n",
              "50%             1.000000    1.000000             1.000000   \n",
              "75%             1.000000    1.000000             1.000000   \n",
              "max             1.000000    1.000000             1.000000   \n",
              "\n",
              "       SWALLOWING DIFFICULTY  CHEST PAIN  LUNG_CANCER  \n",
              "count             276.000000  276.000000   276.000000  \n",
              "mean                0.467391    0.557971     0.862319  \n",
              "std                 0.499842    0.497530     0.345191  \n",
              "min                 0.000000    0.000000     0.000000  \n",
              "25%                 0.000000    0.000000     1.000000  \n",
              "50%                 0.000000    1.000000     1.000000  \n",
              "75%                 1.000000    1.000000     1.000000  \n",
              "max                 1.000000    1.000000     1.000000  "
            ],
            "text/html": [
              "\n",
              "  <div id=\"df-0cb3b993-ef27-4c1f-9dc2-a88ff375c343\" class=\"colab-df-container\">\n",
              "    <div>\n",
              "<style scoped>\n",
              "    .dataframe tbody tr th:only-of-type {\n",
              "        vertical-align: middle;\n",
              "    }\n",
              "\n",
              "    .dataframe tbody tr th {\n",
              "        vertical-align: top;\n",
              "    }\n",
              "\n",
              "    .dataframe thead th {\n",
              "        text-align: right;\n",
              "    }\n",
              "</style>\n",
              "<table border=\"1\" class=\"dataframe\">\n",
              "  <thead>\n",
              "    <tr style=\"text-align: right;\">\n",
              "      <th></th>\n",
              "      <th>GENDER</th>\n",
              "      <th>AGE</th>\n",
              "      <th>SMOKING</th>\n",
              "      <th>YELLOW_FINGERS</th>\n",
              "      <th>ANXIETY</th>\n",
              "      <th>PEER_PRESSURE</th>\n",
              "      <th>CHRONIC DISEASE</th>\n",
              "      <th>FATIGUE</th>\n",
              "      <th>ALLERGY</th>\n",
              "      <th>WHEEZING</th>\n",
              "      <th>ALCOHOL CONSUMING</th>\n",
              "      <th>COUGHING</th>\n",
              "      <th>SHORTNESS OF BREATH</th>\n",
              "      <th>SWALLOWING DIFFICULTY</th>\n",
              "      <th>CHEST PAIN</th>\n",
              "      <th>LUNG_CANCER</th>\n",
              "    </tr>\n",
              "  </thead>\n",
              "  <tbody>\n",
              "    <tr>\n",
              "      <th>count</th>\n",
              "      <td>276.000000</td>\n",
              "      <td>276.000000</td>\n",
              "      <td>276.000000</td>\n",
              "      <td>276.000000</td>\n",
              "      <td>276.000000</td>\n",
              "      <td>276.000000</td>\n",
              "      <td>276.000000</td>\n",
              "      <td>276.000000</td>\n",
              "      <td>276.000000</td>\n",
              "      <td>276.000000</td>\n",
              "      <td>276.000000</td>\n",
              "      <td>276.000000</td>\n",
              "      <td>276.000000</td>\n",
              "      <td>276.000000</td>\n",
              "      <td>276.000000</td>\n",
              "      <td>276.000000</td>\n",
              "    </tr>\n",
              "    <tr>\n",
              "      <th>mean</th>\n",
              "      <td>0.514493</td>\n",
              "      <td>62.909420</td>\n",
              "      <td>0.543478</td>\n",
              "      <td>0.576087</td>\n",
              "      <td>0.496377</td>\n",
              "      <td>0.507246</td>\n",
              "      <td>0.521739</td>\n",
              "      <td>0.663043</td>\n",
              "      <td>0.547101</td>\n",
              "      <td>0.547101</td>\n",
              "      <td>0.550725</td>\n",
              "      <td>0.576087</td>\n",
              "      <td>0.630435</td>\n",
              "      <td>0.467391</td>\n",
              "      <td>0.557971</td>\n",
              "      <td>0.862319</td>\n",
              "    </tr>\n",
              "    <tr>\n",
              "      <th>std</th>\n",
              "      <td>0.500698</td>\n",
              "      <td>8.379355</td>\n",
              "      <td>0.499011</td>\n",
              "      <td>0.495075</td>\n",
              "      <td>0.500895</td>\n",
              "      <td>0.500856</td>\n",
              "      <td>0.500435</td>\n",
              "      <td>0.473529</td>\n",
              "      <td>0.498681</td>\n",
              "      <td>0.498681</td>\n",
              "      <td>0.498324</td>\n",
              "      <td>0.495075</td>\n",
              "      <td>0.483564</td>\n",
              "      <td>0.499842</td>\n",
              "      <td>0.497530</td>\n",
              "      <td>0.345191</td>\n",
              "    </tr>\n",
              "    <tr>\n",
              "      <th>min</th>\n",
              "      <td>0.000000</td>\n",
              "      <td>21.000000</td>\n",
              "      <td>0.000000</td>\n",
              "      <td>0.000000</td>\n",
              "      <td>0.000000</td>\n",
              "      <td>0.000000</td>\n",
              "      <td>0.000000</td>\n",
              "      <td>0.000000</td>\n",
              "      <td>0.000000</td>\n",
              "      <td>0.000000</td>\n",
              "      <td>0.000000</td>\n",
              "      <td>0.000000</td>\n",
              "      <td>0.000000</td>\n",
              "      <td>0.000000</td>\n",
              "      <td>0.000000</td>\n",
              "      <td>0.000000</td>\n",
              "    </tr>\n",
              "    <tr>\n",
              "      <th>25%</th>\n",
              "      <td>0.000000</td>\n",
              "      <td>57.750000</td>\n",
              "      <td>0.000000</td>\n",
              "      <td>0.000000</td>\n",
              "      <td>0.000000</td>\n",
              "      <td>0.000000</td>\n",
              "      <td>0.000000</td>\n",
              "      <td>0.000000</td>\n",
              "      <td>0.000000</td>\n",
              "      <td>0.000000</td>\n",
              "      <td>0.000000</td>\n",
              "      <td>0.000000</td>\n",
              "      <td>0.000000</td>\n",
              "      <td>0.000000</td>\n",
              "      <td>0.000000</td>\n",
              "      <td>1.000000</td>\n",
              "    </tr>\n",
              "    <tr>\n",
              "      <th>50%</th>\n",
              "      <td>1.000000</td>\n",
              "      <td>62.500000</td>\n",
              "      <td>1.000000</td>\n",
              "      <td>1.000000</td>\n",
              "      <td>0.000000</td>\n",
              "      <td>1.000000</td>\n",
              "      <td>1.000000</td>\n",
              "      <td>1.000000</td>\n",
              "      <td>1.000000</td>\n",
              "      <td>1.000000</td>\n",
              "      <td>1.000000</td>\n",
              "      <td>1.000000</td>\n",
              "      <td>1.000000</td>\n",
              "      <td>0.000000</td>\n",
              "      <td>1.000000</td>\n",
              "      <td>1.000000</td>\n",
              "    </tr>\n",
              "    <tr>\n",
              "      <th>75%</th>\n",
              "      <td>1.000000</td>\n",
              "      <td>69.000000</td>\n",
              "      <td>1.000000</td>\n",
              "      <td>1.000000</td>\n",
              "      <td>1.000000</td>\n",
              "      <td>1.000000</td>\n",
              "      <td>1.000000</td>\n",
              "      <td>1.000000</td>\n",
              "      <td>1.000000</td>\n",
              "      <td>1.000000</td>\n",
              "      <td>1.000000</td>\n",
              "      <td>1.000000</td>\n",
              "      <td>1.000000</td>\n",
              "      <td>1.000000</td>\n",
              "      <td>1.000000</td>\n",
              "      <td>1.000000</td>\n",
              "    </tr>\n",
              "    <tr>\n",
              "      <th>max</th>\n",
              "      <td>1.000000</td>\n",
              "      <td>87.000000</td>\n",
              "      <td>1.000000</td>\n",
              "      <td>1.000000</td>\n",
              "      <td>1.000000</td>\n",
              "      <td>1.000000</td>\n",
              "      <td>1.000000</td>\n",
              "      <td>1.000000</td>\n",
              "      <td>1.000000</td>\n",
              "      <td>1.000000</td>\n",
              "      <td>1.000000</td>\n",
              "      <td>1.000000</td>\n",
              "      <td>1.000000</td>\n",
              "      <td>1.000000</td>\n",
              "      <td>1.000000</td>\n",
              "      <td>1.000000</td>\n",
              "    </tr>\n",
              "  </tbody>\n",
              "</table>\n",
              "</div>\n",
              "    <div class=\"colab-df-buttons\">\n",
              "\n",
              "  <div class=\"colab-df-container\">\n",
              "    <button class=\"colab-df-convert\" onclick=\"convertToInteractive('df-0cb3b993-ef27-4c1f-9dc2-a88ff375c343')\"\n",
              "            title=\"Convert this dataframe to an interactive table.\"\n",
              "            style=\"display:none;\">\n",
              "\n",
              "  <svg xmlns=\"http://www.w3.org/2000/svg\" height=\"24px\" viewBox=\"0 -960 960 960\">\n",
              "    <path d=\"M120-120v-720h720v720H120Zm60-500h600v-160H180v160Zm220 220h160v-160H400v160Zm0 220h160v-160H400v160ZM180-400h160v-160H180v160Zm440 0h160v-160H620v160ZM180-180h160v-160H180v160Zm440 0h160v-160H620v160Z\"/>\n",
              "  </svg>\n",
              "    </button>\n",
              "\n",
              "  <style>\n",
              "    .colab-df-container {\n",
              "      display:flex;\n",
              "      gap: 12px;\n",
              "    }\n",
              "\n",
              "    .colab-df-convert {\n",
              "      background-color: #E8F0FE;\n",
              "      border: none;\n",
              "      border-radius: 50%;\n",
              "      cursor: pointer;\n",
              "      display: none;\n",
              "      fill: #1967D2;\n",
              "      height: 32px;\n",
              "      padding: 0 0 0 0;\n",
              "      width: 32px;\n",
              "    }\n",
              "\n",
              "    .colab-df-convert:hover {\n",
              "      background-color: #E2EBFA;\n",
              "      box-shadow: 0px 1px 2px rgba(60, 64, 67, 0.3), 0px 1px 3px 1px rgba(60, 64, 67, 0.15);\n",
              "      fill: #174EA6;\n",
              "    }\n",
              "\n",
              "    .colab-df-buttons div {\n",
              "      margin-bottom: 4px;\n",
              "    }\n",
              "\n",
              "    [theme=dark] .colab-df-convert {\n",
              "      background-color: #3B4455;\n",
              "      fill: #D2E3FC;\n",
              "    }\n",
              "\n",
              "    [theme=dark] .colab-df-convert:hover {\n",
              "      background-color: #434B5C;\n",
              "      box-shadow: 0px 1px 3px 1px rgba(0, 0, 0, 0.15);\n",
              "      filter: drop-shadow(0px 1px 2px rgba(0, 0, 0, 0.3));\n",
              "      fill: #FFFFFF;\n",
              "    }\n",
              "  </style>\n",
              "\n",
              "    <script>\n",
              "      const buttonEl =\n",
              "        document.querySelector('#df-0cb3b993-ef27-4c1f-9dc2-a88ff375c343 button.colab-df-convert');\n",
              "      buttonEl.style.display =\n",
              "        google.colab.kernel.accessAllowed ? 'block' : 'none';\n",
              "\n",
              "      async function convertToInteractive(key) {\n",
              "        const element = document.querySelector('#df-0cb3b993-ef27-4c1f-9dc2-a88ff375c343');\n",
              "        const dataTable =\n",
              "          await google.colab.kernel.invokeFunction('convertToInteractive',\n",
              "                                                    [key], {});\n",
              "        if (!dataTable) return;\n",
              "\n",
              "        const docLinkHtml = 'Like what you see? Visit the ' +\n",
              "          '<a target=\"_blank\" href=https://colab.research.google.com/notebooks/data_table.ipynb>data table notebook</a>'\n",
              "          + ' to learn more about interactive tables.';\n",
              "        element.innerHTML = '';\n",
              "        dataTable['output_type'] = 'display_data';\n",
              "        await google.colab.output.renderOutput(dataTable, element);\n",
              "        const docLink = document.createElement('div');\n",
              "        docLink.innerHTML = docLinkHtml;\n",
              "        element.appendChild(docLink);\n",
              "      }\n",
              "    </script>\n",
              "  </div>\n",
              "\n",
              "\n",
              "<div id=\"df-3630173f-9a33-4e1e-9467-000e1b9fa1f0\">\n",
              "  <button class=\"colab-df-quickchart\" onclick=\"quickchart('df-3630173f-9a33-4e1e-9467-000e1b9fa1f0')\"\n",
              "            title=\"Suggest charts\"\n",
              "            style=\"display:none;\">\n",
              "\n",
              "<svg xmlns=\"http://www.w3.org/2000/svg\" height=\"24px\"viewBox=\"0 0 24 24\"\n",
              "     width=\"24px\">\n",
              "    <g>\n",
              "        <path d=\"M19 3H5c-1.1 0-2 .9-2 2v14c0 1.1.9 2 2 2h14c1.1 0 2-.9 2-2V5c0-1.1-.9-2-2-2zM9 17H7v-7h2v7zm4 0h-2V7h2v10zm4 0h-2v-4h2v4z\"/>\n",
              "    </g>\n",
              "</svg>\n",
              "  </button>\n",
              "\n",
              "<style>\n",
              "  .colab-df-quickchart {\n",
              "      --bg-color: #E8F0FE;\n",
              "      --fill-color: #1967D2;\n",
              "      --hover-bg-color: #E2EBFA;\n",
              "      --hover-fill-color: #174EA6;\n",
              "      --disabled-fill-color: #AAA;\n",
              "      --disabled-bg-color: #DDD;\n",
              "  }\n",
              "\n",
              "  [theme=dark] .colab-df-quickchart {\n",
              "      --bg-color: #3B4455;\n",
              "      --fill-color: #D2E3FC;\n",
              "      --hover-bg-color: #434B5C;\n",
              "      --hover-fill-color: #FFFFFF;\n",
              "      --disabled-bg-color: #3B4455;\n",
              "      --disabled-fill-color: #666;\n",
              "  }\n",
              "\n",
              "  .colab-df-quickchart {\n",
              "    background-color: var(--bg-color);\n",
              "    border: none;\n",
              "    border-radius: 50%;\n",
              "    cursor: pointer;\n",
              "    display: none;\n",
              "    fill: var(--fill-color);\n",
              "    height: 32px;\n",
              "    padding: 0;\n",
              "    width: 32px;\n",
              "  }\n",
              "\n",
              "  .colab-df-quickchart:hover {\n",
              "    background-color: var(--hover-bg-color);\n",
              "    box-shadow: 0 1px 2px rgba(60, 64, 67, 0.3), 0 1px 3px 1px rgba(60, 64, 67, 0.15);\n",
              "    fill: var(--button-hover-fill-color);\n",
              "  }\n",
              "\n",
              "  .colab-df-quickchart-complete:disabled,\n",
              "  .colab-df-quickchart-complete:disabled:hover {\n",
              "    background-color: var(--disabled-bg-color);\n",
              "    fill: var(--disabled-fill-color);\n",
              "    box-shadow: none;\n",
              "  }\n",
              "\n",
              "  .colab-df-spinner {\n",
              "    border: 2px solid var(--fill-color);\n",
              "    border-color: transparent;\n",
              "    border-bottom-color: var(--fill-color);\n",
              "    animation:\n",
              "      spin 1s steps(1) infinite;\n",
              "  }\n",
              "\n",
              "  @keyframes spin {\n",
              "    0% {\n",
              "      border-color: transparent;\n",
              "      border-bottom-color: var(--fill-color);\n",
              "      border-left-color: var(--fill-color);\n",
              "    }\n",
              "    20% {\n",
              "      border-color: transparent;\n",
              "      border-left-color: var(--fill-color);\n",
              "      border-top-color: var(--fill-color);\n",
              "    }\n",
              "    30% {\n",
              "      border-color: transparent;\n",
              "      border-left-color: var(--fill-color);\n",
              "      border-top-color: var(--fill-color);\n",
              "      border-right-color: var(--fill-color);\n",
              "    }\n",
              "    40% {\n",
              "      border-color: transparent;\n",
              "      border-right-color: var(--fill-color);\n",
              "      border-top-color: var(--fill-color);\n",
              "    }\n",
              "    60% {\n",
              "      border-color: transparent;\n",
              "      border-right-color: var(--fill-color);\n",
              "    }\n",
              "    80% {\n",
              "      border-color: transparent;\n",
              "      border-right-color: var(--fill-color);\n",
              "      border-bottom-color: var(--fill-color);\n",
              "    }\n",
              "    90% {\n",
              "      border-color: transparent;\n",
              "      border-bottom-color: var(--fill-color);\n",
              "    }\n",
              "  }\n",
              "</style>\n",
              "\n",
              "  <script>\n",
              "    async function quickchart(key) {\n",
              "      const quickchartButtonEl =\n",
              "        document.querySelector('#' + key + ' button');\n",
              "      quickchartButtonEl.disabled = true;  // To prevent multiple clicks.\n",
              "      quickchartButtonEl.classList.add('colab-df-spinner');\n",
              "      try {\n",
              "        const charts = await google.colab.kernel.invokeFunction(\n",
              "            'suggestCharts', [key], {});\n",
              "      } catch (error) {\n",
              "        console.error('Error during call to suggestCharts:', error);\n",
              "      }\n",
              "      quickchartButtonEl.classList.remove('colab-df-spinner');\n",
              "      quickchartButtonEl.classList.add('colab-df-quickchart-complete');\n",
              "    }\n",
              "    (() => {\n",
              "      let quickchartButtonEl =\n",
              "        document.querySelector('#df-3630173f-9a33-4e1e-9467-000e1b9fa1f0 button');\n",
              "      quickchartButtonEl.style.display =\n",
              "        google.colab.kernel.accessAllowed ? 'block' : 'none';\n",
              "    })();\n",
              "  </script>\n",
              "</div>\n",
              "\n",
              "    </div>\n",
              "  </div>\n"
            ],
            "application/vnd.google.colaboratory.intrinsic+json": {
              "type": "dataframe",
              "summary": "{\n  \"name\": \"dataset_new\",\n  \"rows\": 8,\n  \"fields\": [\n    {\n      \"column\": \"GENDER\",\n      \"properties\": {\n        \"dtype\": \"number\",\n        \"std\": 97.37882729207791,\n        \"min\": 0.0,\n        \"max\": 276.0,\n        \"num_unique_values\": 5,\n        \"samples\": [\n          0.5144927536231884,\n          1.0,\n          0.500697800294775\n        ],\n        \"semantic_type\": \"\",\n        \"description\": \"\"\n      }\n    },\n    {\n      \"column\": \"AGE\",\n      \"properties\": {\n        \"dtype\": \"number\",\n        \"std\": 83.05535348820949,\n        \"min\": 8.37935460896089,\n        \"max\": 276.0,\n        \"num_unique_values\": 8,\n        \"samples\": [\n          62.90942028985507,\n          62.5,\n          276.0\n        ],\n        \"semantic_type\": \"\",\n        \"description\": \"\"\n      }\n    },\n    {\n      \"column\": \"SMOKING\",\n      \"properties\": {\n        \"dtype\": \"number\",\n        \"std\": 97.3774467251725,\n        \"min\": 0.0,\n        \"max\": 276.0,\n        \"num_unique_values\": 5,\n        \"samples\": [\n          0.5434782608695652,\n          1.0,\n          0.4990108793478454\n        ],\n        \"semantic_type\": \"\",\n        \"description\": \"\"\n      }\n    },\n    {\n      \"column\": \"YELLOW_FINGERS\",\n      \"properties\": {\n        \"dtype\": \"number\",\n        \"std\": 97.37599809592945,\n        \"min\": 0.0,\n        \"max\": 276.0,\n        \"num_unique_values\": 5,\n        \"samples\": [\n          0.5760869565217391,\n          1.0,\n          0.4950745542130488\n        ],\n        \"semantic_type\": \"\",\n        \"description\": \"\"\n      }\n    },\n    {\n      \"column\": \"ANXIETY\",\n      \"properties\": {\n        \"dtype\": \"number\",\n        \"std\": 97.43024066192399,\n        \"min\": 0.0,\n        \"max\": 276.0,\n        \"num_unique_values\": 5,\n        \"samples\": [\n          0.4963768115942029,\n          1.0,\n          0.5008951144486481\n        ],\n        \"semantic_type\": \"\",\n        \"description\": \"\"\n      }\n    },\n    {\n      \"column\": \"PEER_PRESSURE\",\n      \"properties\": {\n        \"dtype\": \"number\",\n        \"std\": 97.3791859578143,\n        \"min\": 0.0,\n        \"max\": 276.0,\n        \"num_unique_values\": 5,\n        \"samples\": [\n          0.5072463768115942,\n          1.0,\n          0.5008556578364916\n        ],\n        \"semantic_type\": \"\",\n        \"description\": \"\"\n      }\n    },\n    {\n      \"column\": \"CHRONIC DISEASE\",\n      \"properties\": {\n        \"dtype\": \"number\",\n        \"std\": 97.37847402521152,\n        \"min\": 0.0,\n        \"max\": 276.0,\n        \"num_unique_values\": 5,\n        \"samples\": [\n          0.5217391304347826,\n          1.0,\n          0.5004345937369794\n        ],\n        \"semantic_type\": \"\",\n        \"description\": \"\"\n      }\n    },\n    {\n      \"column\": \"FATIGUE \",\n      \"properties\": {\n        \"dtype\": \"number\",\n        \"std\": 97.3727018693002,\n        \"min\": 0.0,\n        \"max\": 276.0,\n        \"num_unique_values\": 5,\n        \"samples\": [\n          0.6630434782608695,\n          1.0,\n          0.47352850918593875\n        ],\n        \"semantic_type\": \"\",\n        \"description\": \"\"\n      }\n    },\n    {\n      \"column\": \"ALLERGY \",\n      \"properties\": {\n        \"dtype\": \"number\",\n        \"std\": 97.3772802685281,\n        \"min\": 0.0,\n        \"max\": 276.0,\n        \"num_unique_values\": 5,\n        \"samples\": [\n          0.5471014492753623,\n          1.0,\n          0.49868073648713007\n        ],\n        \"semantic_type\": \"\",\n        \"description\": \"\"\n      }\n    },\n    {\n      \"column\": \"WHEEZING\",\n      \"properties\": {\n        \"dtype\": \"number\",\n        \"std\": 97.3772802685281,\n        \"min\": 0.0,\n        \"max\": 276.0,\n        \"num_unique_values\": 5,\n        \"samples\": [\n          0.5471014492753623,\n          1.0,\n          0.49868073648713007\n        ],\n        \"semantic_type\": \"\",\n        \"description\": \"\"\n      }\n    },\n    {\n      \"column\": \"ALCOHOL CONSUMING\",\n      \"properties\": {\n        \"dtype\": \"number\",\n        \"std\": 97.3771151785361,\n        \"min\": 0.0,\n        \"max\": 276.0,\n        \"num_unique_values\": 5,\n        \"samples\": [\n          0.5507246376811594,\n          1.0,\n          0.4983239365292922\n        ],\n        \"semantic_type\": \"\",\n        \"description\": \"\"\n      }\n    },\n    {\n      \"column\": \"COUGHING\",\n      \"properties\": {\n        \"dtype\": \"number\",\n        \"std\": 97.37599809592945,\n        \"min\": 0.0,\n        \"max\": 276.0,\n        \"num_unique_values\": 5,\n        \"samples\": [\n          0.5760869565217391,\n          1.0,\n          0.4950745542130488\n        ],\n        \"semantic_type\": \"\",\n        \"description\": \"\"\n      }\n    },\n    {\n      \"column\": \"SHORTNESS OF BREATH\",\n      \"properties\": {\n        \"dtype\": \"number\",\n        \"std\": 97.37383760804154,\n        \"min\": 0.0,\n        \"max\": 276.0,\n        \"num_unique_values\": 5,\n        \"samples\": [\n          0.6304347826086957,\n          1.0,\n          0.48356384490040366\n        ],\n        \"semantic_type\": \"\",\n        \"description\": \"\"\n      }\n    },\n    {\n      \"column\": \"SWALLOWING DIFFICULTY\",\n      \"properties\": {\n        \"dtype\": \"number\",\n        \"std\": 97.43175534573218,\n        \"min\": 0.0,\n        \"max\": 276.0,\n        \"num_unique_values\": 5,\n        \"samples\": [\n          0.4673913043478261,\n          1.0,\n          0.49984187222880955\n        ],\n        \"semantic_type\": \"\",\n        \"description\": \"\"\n      }\n    },\n    {\n      \"column\": \"CHEST PAIN\",\n      \"properties\": {\n        \"dtype\": \"number\",\n        \"std\": 97.37678911072982,\n        \"min\": 0.0,\n        \"max\": 276.0,\n        \"num_unique_values\": 5,\n        \"samples\": [\n          0.5579710144927537,\n          1.0,\n          0.4975301316343141\n        ],\n        \"semantic_type\": \"\",\n        \"description\": \"\"\n      }\n    },\n    {\n      \"column\": \"LUNG_CANCER\",\n      \"properties\": {\n        \"dtype\": \"number\",\n        \"std\": 97.31844253783174,\n        \"min\": 0.0,\n        \"max\": 276.0,\n        \"num_unique_values\": 5,\n        \"samples\": [\n          0.8623188405797102,\n          1.0,\n          0.34519094026892094\n        ],\n        \"semantic_type\": \"\",\n        \"description\": \"\"\n      }\n    }\n  ]\n}"
            }
          },
          "metadata": {},
          "execution_count": 370
        }
      ]
    },
    {
      "cell_type": "markdown",
      "source": [
        "**Data Visualization**"
      ],
      "metadata": {
        "id": "WqCeKT94AK7M"
      }
    },
    {
      "cell_type": "code",
      "source": [
        "import seaborn as sns"
      ],
      "metadata": {
        "id": "lZ-rjfTPAQ9D"
      },
      "execution_count": 371,
      "outputs": []
    },
    {
      "cell_type": "code",
      "source": [
        "sns.countplot(x ='LUNG_CANCER',data = dataset) # Count plot to check wheather or not the dataset is balanced"
      ],
      "metadata": {
        "id": "Mt4Fw-TdAe6J",
        "colab": {
          "base_uri": "https://localhost:8080/",
          "height": 466
        },
        "outputId": "74483b46-3f79-48c5-b8a2-5d874abb2d03"
      },
      "execution_count": 372,
      "outputs": [
        {
          "output_type": "execute_result",
          "data": {
            "text/plain": [
              "<Axes: xlabel='LUNG_CANCER', ylabel='count'>"
            ]
          },
          "metadata": {},
          "execution_count": 372
        },
        {
          "output_type": "display_data",
          "data": {
            "text/plain": [
              "<Figure size 640x480 with 1 Axes>"
            ],
            "image/png": "[encoded data removed]"
          },
          "metadata": {}
        }
      ]
    },
    {
      "cell_type": "markdown",
      "source": [
        "**NOTE:** Total count of participants who do not have lung cancer is far less than participants who do have have lung cancer, which indicates that the data is imbalanced."
      ],
      "metadata": {
        "id": "x-5mTcWzAh3N"
      }
    },
    {
      "cell_type": "markdown",
      "source": [
        "# Scikit-learn"
      ],
      "metadata": {
        "id": "nId2r8HzdK9k"
      }
    },
    {
      "cell_type": "markdown",
      "source": [
        "**NOTE:** Scikit-learn, often referred to as sklearn, is a popular open-source machine learning library for Python."
      ],
      "metadata": {
        "id": "rfCYFA3jdaoc"
      }
    },
    {
      "cell_type": "markdown",
      "source": [
        "**Here are some key functionalities and features of scikit-learn:**\n",
        "\n",
        "1. Machine Learning Algorithms: Scikit-learn offers a comprehensive suite of machine learning algorithms, including supervised learning (e.g., regression, classification), unsupervised learning (e.g., clustering, dimensionality reduction), and semi-supervised learning.\n",
        "2. Data Preprocessing: It provides various data preprocessing techniques, such as feature scaling, data normalization, imputation of missing values, and encoding categorical variables.\n",
        "3. Model Selection and Evaluation: Scikit-learn provides tools for model selection, including data splitting for training and testing, cross-validation, and hyperparameter tuning. It also offers metrics for evaluating model performance, such as accuracy, precision, recall, F1-score, and more.\n",
        "4. Feature Selection: Sklearn provides methods for feature selection, allowing you to choose the most relevant features for your model and eliminate irrelevant or redundant ones.\n",
        "5. Pipeline Building: It enables the creation of data processing pipelines, where data goes through a sequence of transformations before being fed into a machine learning model. This simplifies the process of building complex workflows.\n",
        "6. Integration with NumPy and Pandas: Sklearn seamlessly integrates with NumPy and Pandas, making it easy to work with data in these formats.\n",
        "7. Ensemble Methods: It includes ensemble methods such as random forests, gradient boosting, and voting classifiers, which combine multiple models to improve overall predictive performance.\n",
        "8. Support for Various Data Types: Sklearn can handle both dense and sparse data arrays, making it suitable for working with a wide range of data types."
      ],
      "metadata": {
        "id": "wJVSPSLtdoc-"
      }
    },
    {
      "cell_type": "markdown",
      "source": [
        "**Split data and get ready for running different models**"
      ],
      "metadata": {
        "id": "AqoS96OMfERt"
      }
    },
    {
      "cell_type": "code",
      "source": [
        "# Prepare input features (x) and target variable (y)\n",
        "x = dataset_new.drop(\"LUNG_CANCER\", axis=1)\n",
        "y = dataset_new[\"LUNG_CANCER\"]"
      ],
      "metadata": {
        "id": "vY17jMXQOXY-"
      },
      "execution_count": 373,
      "outputs": []
    },
    {
      "cell_type": "code",
      "source": [
        "import numpy as np\n",
        "from sklearn.preprocessing import StandardScaler\n",
        "from sklearn.model_selection import train_test_split\n",
        "\n",
        "# Standardize input features using StandardScaler\n",
        "scaler = StandardScaler()\n",
        "x = scaler.fit_transform(x)"
      ],
      "metadata": {
        "id": "q5r56SAW4mcY"
      },
      "execution_count": 374,
      "outputs": []
    },
    {
      "cell_type": "markdown",
      "source": [
        "# TensorFlow"
      ],
      "metadata": {
        "id": "4JHsef6PLGZZ"
      }
    },
    {
      "cell_type": "markdown",
      "source": [
        "**NOTE:** TensorFlow can also be used for both supervised and unsupervised learning tasks. TensorFlow is a powerful and flexible deep learning framework that allows you to build and train various types of machine learning models, including those used in supervised and unsupervised learning."
      ],
      "metadata": {
        "id": "eKGJp0TdeliD"
      }
    },
    {
      "cell_type": "markdown",
      "source": [
        "**1. Supervised Learning:**\n",
        "In supervised learning, the model is trained on labeled data, where the input features and corresponding target labels are provided. TensorFlow can be used to build and train various supervised learning models, such as:\n",
        "- Regression Models: TensorFlow can be used to create regression models for predicting continuous numeric values. For example, you can build a linear regression model, a neural network for regression, or more complex models for regression tasks.\n",
        "- Classification Models: TensorFlow is commonly used for building classification models for predicting discrete classes or labels. You can create neural networks, convolutional neural networks (CNNs), recurrent neural networks (RNNs), and other types of classifiers for tasks like image classification, sentiment analysis, and more.\n",
        "\n",
        "**2. Unsupervised Learning:**\n",
        "In unsupervised learning, the model is trained on unlabeled data, and it aims to find patterns, structure, or representations within the data. TensorFlow can be used for various unsupervised learning tasks, such as:\n",
        "- Clustering: TensorFlow can be used to build clustering models, such as K-means clustering or hierarchical clustering, to group similar data points together based on their features.\n",
        "- Autoencoders: Autoencoders are a type of neural network used for dimensionality reduction and feature learning. They are commonly used in unsupervised learning to learn a compressed representation of the input data.\n",
        "- Generative Models: TensorFlow can be used to build generative models like Generative Adversarial Networks (GANs) and Variational Autoencoders (VAEs) for generating new data that resembles the training data."
      ],
      "metadata": {
        "id": "dcTA5UG8epVi"
      }
    },
    {
      "cell_type": "markdown",
      "source": [
        "**NOTE:** The output shows the training and evaluation process of a neural network model using TensorFlow with 50 epochs. Each epoch represents one complete pass through the entire training dataset. The model is evaluated on a validation dataset after each epoch to monitor its performance."
      ],
      "metadata": {
        "id": "TCqq-rx7Slra"
      }
    },
    {
      "cell_type": "code",
      "source": [
        "xTrain, xTest, yTrain, yTest = train_test_split(x, y)\n",
        "\n",
        "print(f\"{xTrain.shape}, {yTrain.shape}\")\n",
        "print(f\"{xTest.shape}, {yTest.shape}\")"
      ],
      "metadata": {
        "id": "UGR7qPE7I4sl",
        "colab": {
          "base_uri": "https://localhost:8080/"
        },
        "outputId": "ef388bbe-580b-40c4-9428-f9f451a24cef"
      },
      "execution_count": 375,
      "outputs": [
        {
          "output_type": "stream",
          "name": "stdout",
          "text": [
            "(207, 15), (207,)\n",
            "(69, 15), (69,)\n"
          ]
        }
      ]
    },
    {
      "cell_type": "code",
      "source": [
        "import tensorflow as tf\n",
        "\n",
        "# Build the neural network\n",
        "model = tf.keras.models.Sequential([\n",
        "    tf.keras.layers.Input(shape=(x.shape[1],)),  # Input layer with the number of features\n",
        "    tf.keras.layers.Dense(64, activation='relu'),  # Hidden layer with 64 units and ReLU activation\n",
        "    tf.keras.layers.Dense(1, activation='sigmoid')  # Output layer with 1 unit and sigmoid activation for binary classification\n",
        "])\n",
        "\n",
        "model.compile(optimizer='adam', loss='binary_crossentropy', metrics=['accuracy'])\n",
        "\n",
        "# Train the model\n",
        "results = model.fit(xTrain, yTrain, batch_size=32, epochs=50, validation_data=(xTest, yTest))"
      ],
      "metadata": {
        "id": "nM3BwcLCLKux",
        "colab": {
          "base_uri": "https://localhost:8080/"
        },
        "outputId": "b7a5c546-3e4a-46d4-ef61-54d7e2333835"
      },
      "execution_count": 376,
      "outputs": [
        {
          "output_type": "stream",
          "name": "stdout",
          "text": [
            "Epoch 1/50\n",
            "7/7 [==============================] - 1s 35ms/step - loss: 0.8878 - accuracy: 0.2947 - val_loss: 0.8372 - val_accuracy: 0.3188\n",
            "Epoch 2/50\n",
            "7/7 [==============================] - 0s 10ms/step - loss: 0.7899 - accuracy: 0.3575 - val_loss: 0.7446 - val_accuracy: 0.4058\n",
            "Epoch 3/50\n",
            "7/7 [==============================] - 0s 12ms/step - loss: 0.7077 - accuracy: 0.4976 - val_loss: 0.6632 - val_accuracy: 0.6232\n",
            "Epoch 4/50\n",
            "7/7 [==============================] - 0s 10ms/step - loss: 0.6382 - accuracy: 0.6329 - val_loss: 0.5933 - val_accuracy: 0.7681\n",
            "Epoch 5/50\n",
            "7/7 [==============================] - 0s 11ms/step - loss: 0.5777 - accuracy: 0.7536 - val_loss: 0.5347 - val_accuracy: 0.8261\n",
            "Epoch 6/50\n",
            "7/7 [==============================] - 0s 8ms/step - loss: 0.5287 - accuracy: 0.8309 - val_loss: 0.4849 - val_accuracy: 0.8986\n",
            "Epoch 7/50\n",
            "7/7 [==============================] - 0s 8ms/step - loss: 0.4860 - accuracy: 0.8841 - val_loss: 0.4424 - val_accuracy: 0.9130\n",
            "Epoch 8/50\n",
            "7/7 [==============================] - 0s 8ms/step - loss: 0.4525 - accuracy: 0.8889 - val_loss: 0.4059 - val_accuracy: 0.9130\n",
            "Epoch 9/50\n",
            "7/7 [==============================] - 0s 8ms/step - loss: 0.4213 - accuracy: 0.8937 - val_loss: 0.3772 - val_accuracy: 0.9130\n",
            "Epoch 10/50\n",
            "7/7 [==============================] - 0s 10ms/step - loss: 0.3976 - accuracy: 0.8792 - val_loss: 0.3517 - val_accuracy: 0.9275\n",
            "Epoch 11/50\n",
            "7/7 [==============================] - 0s 8ms/step - loss: 0.3756 - accuracy: 0.8889 - val_loss: 0.3308 - val_accuracy: 0.9565\n",
            "Epoch 12/50\n",
            "7/7 [==============================] - 0s 10ms/step - loss: 0.3569 - accuracy: 0.8889 - val_loss: 0.3124 - val_accuracy: 0.9565\n",
            "Epoch 13/50\n",
            "7/7 [==============================] - 0s 8ms/step - loss: 0.3406 - accuracy: 0.8937 - val_loss: 0.2961 - val_accuracy: 0.9420\n",
            "Epoch 14/50\n",
            "7/7 [==============================] - 0s 12ms/step - loss: 0.3261 - accuracy: 0.8937 - val_loss: 0.2827 - val_accuracy: 0.9420\n",
            "Epoch 15/50\n",
            "7/7 [==============================] - 0s 9ms/step - loss: 0.3135 - accuracy: 0.8986 - val_loss: 0.2709 - val_accuracy: 0.9420\n",
            "Epoch 16/50\n",
            "7/7 [==============================] - 0s 8ms/step - loss: 0.3021 - accuracy: 0.9034 - val_loss: 0.2598 - val_accuracy: 0.9275\n",
            "Epoch 17/50\n",
            "7/7 [==============================] - 0s 12ms/step - loss: 0.2919 - accuracy: 0.9034 - val_loss: 0.2502 - val_accuracy: 0.9275\n",
            "Epoch 18/50\n",
            "7/7 [==============================] - 0s 11ms/step - loss: 0.2825 - accuracy: 0.9034 - val_loss: 0.2418 - val_accuracy: 0.9275\n",
            "Epoch 19/50\n",
            "7/7 [==============================] - 0s 11ms/step - loss: 0.2737 - accuracy: 0.9082 - val_loss: 0.2349 - val_accuracy: 0.9275\n",
            "Epoch 20/50\n",
            "7/7 [==============================] - 0s 8ms/step - loss: 0.2660 - accuracy: 0.9130 - val_loss: 0.2277 - val_accuracy: 0.9275\n",
            "Epoch 21/50\n",
            "7/7 [==============================] - 0s 10ms/step - loss: 0.2588 - accuracy: 0.9179 - val_loss: 0.2224 - val_accuracy: 0.9275\n",
            "Epoch 22/50\n",
            "7/7 [==============================] - 0s 14ms/step - loss: 0.2515 - accuracy: 0.9179 - val_loss: 0.2176 - val_accuracy: 0.9275\n",
            "Epoch 23/50\n",
            "7/7 [==============================] - 0s 8ms/step - loss: 0.2451 - accuracy: 0.9179 - val_loss: 0.2136 - val_accuracy: 0.9275\n",
            "Epoch 24/50\n",
            "7/7 [==============================] - 0s 10ms/step - loss: 0.2395 - accuracy: 0.9179 - val_loss: 0.2092 - val_accuracy: 0.9275\n",
            "Epoch 25/50\n",
            "7/7 [==============================] - 0s 8ms/step - loss: 0.2335 - accuracy: 0.9179 - val_loss: 0.2055 - val_accuracy: 0.9275\n",
            "Epoch 26/50\n",
            "7/7 [==============================] - 0s 9ms/step - loss: 0.2284 - accuracy: 0.9179 - val_loss: 0.2028 - val_accuracy: 0.9275\n",
            "Epoch 27/50\n",
            "7/7 [==============================] - 0s 11ms/step - loss: 0.2236 - accuracy: 0.9227 - val_loss: 0.1996 - val_accuracy: 0.9275\n",
            "Epoch 28/50\n",
            "7/7 [==============================] - 0s 8ms/step - loss: 0.2193 - accuracy: 0.9227 - val_loss: 0.1969 - val_accuracy: 0.9275\n",
            "Epoch 29/50\n",
            "7/7 [==============================] - 0s 24ms/step - loss: 0.2149 - accuracy: 0.9324 - val_loss: 0.1950 - val_accuracy: 0.9275\n",
            "Epoch 30/50\n",
            "7/7 [==============================] - 0s 37ms/step - loss: 0.2108 - accuracy: 0.9372 - val_loss: 0.1919 - val_accuracy: 0.9275\n",
            "Epoch 31/50\n",
            "7/7 [==============================] - 0s 26ms/step - loss: 0.2073 - accuracy: 0.9372 - val_loss: 0.1890 - val_accuracy: 0.9275\n",
            "Epoch 32/50\n",
            "7/7 [==============================] - 0s 23ms/step - loss: 0.2031 - accuracy: 0.9372 - val_loss: 0.1866 - val_accuracy: 0.9275\n",
            "Epoch 33/50\n",
            "7/7 [==============================] - 0s 8ms/step - loss: 0.1998 - accuracy: 0.9372 - val_loss: 0.1842 - val_accuracy: 0.9275\n",
            "Epoch 34/50\n",
            "7/7 [==============================] - 0s 8ms/step - loss: 0.1964 - accuracy: 0.9372 - val_loss: 0.1820 - val_accuracy: 0.9275\n",
            "Epoch 35/50\n",
            "7/7 [==============================] - 0s 11ms/step - loss: 0.1934 - accuracy: 0.9372 - val_loss: 0.1801 - val_accuracy: 0.9420\n",
            "Epoch 36/50\n",
            "7/7 [==============================] - 0s 10ms/step - loss: 0.1904 - accuracy: 0.9372 - val_loss: 0.1780 - val_accuracy: 0.9420\n",
            "Epoch 37/50\n",
            "7/7 [==============================] - 0s 9ms/step - loss: 0.1880 - accuracy: 0.9372 - val_loss: 0.1775 - val_accuracy: 0.9565\n",
            "Epoch 38/50\n",
            "7/7 [==============================] - 0s 10ms/step - loss: 0.1849 - accuracy: 0.9372 - val_loss: 0.1755 - val_accuracy: 0.9565\n",
            "Epoch 39/50\n",
            "7/7 [==============================] - 0s 11ms/step - loss: 0.1818 - accuracy: 0.9420 - val_loss: 0.1741 - val_accuracy: 0.9565\n",
            "Epoch 40/50\n",
            "7/7 [==============================] - 0s 9ms/step - loss: 0.1793 - accuracy: 0.9420 - val_loss: 0.1726 - val_accuracy: 0.9565\n",
            "Epoch 41/50\n",
            "7/7 [==============================] - 0s 11ms/step - loss: 0.1770 - accuracy: 0.9420 - val_loss: 0.1719 - val_accuracy: 0.9565\n",
            "Epoch 42/50\n",
            "7/7 [==============================] - 0s 15ms/step - loss: 0.1748 - accuracy: 0.9420 - val_loss: 0.1718 - val_accuracy: 0.9565\n",
            "Epoch 43/50\n",
            "7/7 [==============================] - 0s 13ms/step - loss: 0.1723 - accuracy: 0.9469 - val_loss: 0.1704 - val_accuracy: 0.9565\n",
            "Epoch 44/50\n",
            "7/7 [==============================] - 0s 11ms/step - loss: 0.1702 - accuracy: 0.9469 - val_loss: 0.1705 - val_accuracy: 0.9565\n",
            "Epoch 45/50\n",
            "7/7 [==============================] - 0s 11ms/step - loss: 0.1677 - accuracy: 0.9469 - val_loss: 0.1701 - val_accuracy: 0.9420\n",
            "Epoch 46/50\n",
            "7/7 [==============================] - 0s 10ms/step - loss: 0.1658 - accuracy: 0.9469 - val_loss: 0.1698 - val_accuracy: 0.9565\n",
            "Epoch 47/50\n",
            "7/7 [==============================] - 0s 13ms/step - loss: 0.1634 - accuracy: 0.9469 - val_loss: 0.1691 - val_accuracy: 0.9565\n",
            "Epoch 48/50\n",
            "7/7 [==============================] - 0s 14ms/step - loss: 0.1614 - accuracy: 0.9469 - val_loss: 0.1686 - val_accuracy: 0.9420\n",
            "Epoch 49/50\n",
            "7/7 [==============================] - 0s 11ms/step - loss: 0.1592 - accuracy: 0.9469 - val_loss: 0.1685 - val_accuracy: 0.9420\n",
            "Epoch 50/50\n",
            "7/7 [==============================] - 0s 10ms/step - loss: 0.1575 - accuracy: 0.9517 - val_loss: 0.1689 - val_accuracy: 0.9420\n"
          ]
        }
      ]
    },
    {
      "cell_type": "code",
      "source": [
        "# Evaluate the model on training data\n",
        "train_loss, train_accuracy = model.evaluate(xTrain, yTrain)\n",
        "print(f'Train accuracy: {train_accuracy}')\n",
        "\n",
        "# Evaluate the model on test data\n",
        "test_loss, test_accuracy = model.evaluate(xTest, yTest)\n",
        "print(f'Test accuracy: {test_accuracy}')"
      ],
      "metadata": {
        "colab": {
          "base_uri": "https://localhost:8080/"
        },
        "id": "1Yv4FjbXtZTs",
        "outputId": "ed75f1dd-f47f-4da1-a206-d34cbc2feda7"
      },
      "execution_count": 377,
      "outputs": [
        {
          "output_type": "stream",
          "name": "stdout",
          "text": [
            "7/7 [==============================] - 0s 4ms/step - loss: 0.1559 - accuracy: 0.9517\n",
            "Train accuracy: 0.9516907930374146\n",
            "3/3 [==============================] - 0s 5ms/step - loss: 0.1689 - accuracy: 0.9420\n",
            "Test accuracy: 0.9420289993286133\n"
          ]
        }
      ]
    },
    {
      "cell_type": "code",
      "source": [
        "plt.plot(results.history['accuracy'], label='Training Accuracy')\n",
        "plt.plot(results.history['val_accuracy'], label='Validation Accuracy')\n",
        "plt.title('Model Accuracy')\n",
        "plt.ylabel('Accuracy')\n",
        "plt.xlabel('Epoch')\n",
        "plt.legend()\n",
        "plt.show()"
      ],
      "metadata": {
        "colab": {
          "base_uri": "https://localhost:8080/",
          "height": 472
        },
        "id": "QOhcOTTivJSa",
        "outputId": "ebe18d9c-cb56-4917-f2ed-3faf7acca1ff"
      },
      "execution_count": 378,
      "outputs": [
        {
          "output_type": "display_data",
          "data": {
            "text/plain": [
              "<Figure size 640x480 with 1 Axes>"
            ],
            "image/png": "[encoded data removed]"
          },
          "metadata": {}
        }
      ]
    },
    {
      "cell_type": "code",
      "source": [
        "plt.plot(results.history['loss'], label='Training Loss')\n",
        "plt.plot(results.history['val_loss'], label='Validation Loss')\n",
        "plt.title('Model Loss')\n",
        "plt.ylabel('Loss')\n",
        "plt.xlabel('Epoch')\n",
        "plt.legend()\n",
        "plt.show()"
      ],
      "metadata": {
        "colab": {
          "base_uri": "https://localhost:8080/",
          "height": 472
        },
        "id": "bsSA78YQufU1",
        "outputId": "25debdc1-ddcf-42d3-982c-158b72a68541"
      },
      "execution_count": 379,
      "outputs": [
        {
          "output_type": "display_data",
          "data": {
            "text/plain": [
              "<Figure size 640x480 with 1 Axes>"
            ],
            "image/png": "[encoded data removed]"
          },
          "metadata": {}
        }
      ]
    },
    {
      "cell_type": "markdown",
      "source": [
        "**Let's break down the output:**\n",
        "\n",
        "1. Epochs and Batches: Each epoch consists of a certain number of batches. In this case, each epoch processes 6 batches (6/6 in the progress report). The number of batches can vary depending on the dataset size and the specified batch_size during model training.\n",
        "2. Training Progress: For each epoch, you can see the training loss and accuracy. The training loss is a measure of how well the model is performing on the training data, and the training accuracy indicates the percentage of correct predictions on the training data.\n",
        "3. Validation Progress: After each epoch, the model is evaluated on the validation dataset. The validation loss (val_loss) and validation accuracy (val_accuracy) metrics provide insights into how well the model is generalizing to new, unseen data (validation data). This helps in monitoring if the model is overfitting or underfitting during training.\n",
        "4. Test Accuracy: After training completes, the model's final performance is assessed. The test accuracy indicates how well the model performs on new, unseen data. In the provided results, the test accuracy is 0.9420, which shows good performance on the test dataset.\n",
        "5. Interpretation: The model's test accuracy is high, suggesting that it generalizes well to new, unseen data."
      ],
      "metadata": {
        "id": "21WZgcc1S60V"
      }
    },
    {
      "cell_type": "markdown",
      "source": [
        "# PyTorch"
      ],
      "metadata": {
        "id": "wA6Iy0rP6Eer"
      }
    },
    {
      "cell_type": "code",
      "source": [
        "import pandas as pd\n",
        "import numpy as np\n",
        "import torch\n",
        "import torch.nn as nn\n",
        "import torch.optim as optim"
      ],
      "metadata": {
        "id": "4_9bc-__6HTI"
      },
      "execution_count": 380,
      "outputs": []
    },
    {
      "cell_type": "code",
      "source": [
        "# Convert data to PyTorch tensors\n",
        "xTrainTensor = torch.tensor(xTrain, dtype=torch.float32)\n",
        "yTrainTensor = torch.tensor(yTrain.values, dtype=torch.float32)  # Use .values to extract numpy array\n",
        "xTestTensor = torch.tensor(xTest, dtype=torch.float32)\n",
        "yTestTensor = torch.tensor(yTest.values, dtype=torch.float32)  # Use .values to extract numpy array"
      ],
      "metadata": {
        "id": "O5vBM8wm9W5l"
      },
      "execution_count": 381,
      "outputs": []
    },
    {
      "cell_type": "code",
      "source": [
        "# Define the neural network model\n",
        "class LungCancerModel(nn.Module):\n",
        "    def __init__(self, input_size):\n",
        "        super(LungCancerModel, self).__init__()\n",
        "        self.fc1 = nn.Linear(input_size, 64)  # Input size to hidden layer\n",
        "        self.relu = nn.ReLU()\n",
        "        self.fc2 = nn.Linear(64, 1)  # Hidden layer to output layer\n",
        "        self.sigmoid = nn.Sigmoid()\n",
        "\n",
        "    def forward(self, x):\n",
        "        out = self.fc1(x)\n",
        "        out = self.relu(out)\n",
        "        out = self.fc2(out)\n",
        "        out = self.sigmoid(out)\n",
        "        return out"
      ],
      "metadata": {
        "id": "0kZCyRIA9ZIj"
      },
      "execution_count": 382,
      "outputs": []
    },
    {
      "cell_type": "code",
      "source": [
        "# Instantiate the model\n",
        "input_size = xTrain.shape[1]\n",
        "model = LungCancerModel(input_size)\n",
        "\n",
        "# Define loss function and optimizer\n",
        "criterion = nn.BCELoss()  # Binary cross-entropy loss for binary classification\n",
        "optimizer = optim.Adam(model.parameters(), lr=0.001)  # Adam optimizer with learning rate"
      ],
      "metadata": {
        "id": "9ykTXLh59av1"
      },
      "execution_count": 383,
      "outputs": []
    },
    {
      "cell_type": "code",
      "source": [
        "# Lists to store training metrics\n",
        "train_losses = []\n",
        "train_accuracies = []\n",
        "\n",
        "# Training the model\n",
        "num_epochs = 50\n",
        "for epoch in range(num_epochs):\n",
        "    model.train()\n",
        "    optimizer.zero_grad()\n",
        "    outputs = model(xTrainTensor)\n",
        "    loss = criterion(outputs, yTrainTensor.view(-1, 1))\n",
        "    loss.backward()\n",
        "    optimizer.step()\n",
        "\n",
        "    with torch.no_grad():\n",
        "        predictions = (outputs >= 0.5).float()\n",
        "        correct = (predictions == yTrainTensor.view(-1, 1)).float()\n",
        "        train_accuracy = correct.mean().item()\n",
        "\n",
        "    train_losses.append(loss.item())\n",
        "    train_accuracies.append(train_accuracy)\n",
        "\n",
        "    print(f'Epoch {epoch+1}, Loss: {loss.item()}, Accuracy: {train_accuracy}')"
      ],
      "metadata": {
        "colab": {
          "base_uri": "https://localhost:8080/"
        },
        "id": "LmaELqmM9d2P",
        "outputId": "e046c88b-aa45-4492-b4d9-a541e8087f12"
      },
      "execution_count": 384,
      "outputs": [
        {
          "output_type": "stream",
          "name": "stdout",
          "text": [
            "Epoch 1, Loss: 0.7553094625473022, Accuracy: 0.3285024166107178\n",
            "Epoch 2, Loss: 0.7444919347763062, Accuracy: 0.34299516677856445\n",
            "Epoch 3, Loss: 0.7338466048240662, Accuracy: 0.3478260934352875\n",
            "Epoch 4, Loss: 0.7233722805976868, Accuracy: 0.3719806671142578\n",
            "Epoch 5, Loss: 0.7130700349807739, Accuracy: 0.4251207709312439\n",
            "Epoch 6, Loss: 0.7029386758804321, Accuracy: 0.4396135210990906\n",
            "Epoch 7, Loss: 0.6929803490638733, Accuracy: 0.4637681245803833\n",
            "Epoch 8, Loss: 0.6832008361816406, Accuracy: 0.5169082283973694\n",
            "Epoch 9, Loss: 0.6736072301864624, Accuracy: 0.5507246255874634\n",
            "Epoch 10, Loss: 0.6641960740089417, Accuracy: 0.5893719792366028\n",
            "Epoch 11, Loss: 0.6549729108810425, Accuracy: 0.6618357300758362\n",
            "Epoch 12, Loss: 0.6459329724311829, Accuracy: 0.6570048332214355\n",
            "Epoch 13, Loss: 0.6370757222175598, Accuracy: 0.7149758338928223\n",
            "Epoch 14, Loss: 0.62839674949646, Accuracy: 0.7246376872062683\n",
            "Epoch 15, Loss: 0.6198986768722534, Accuracy: 0.7632850408554077\n",
            "Epoch 16, Loss: 0.611582338809967, Accuracy: 0.7922705411911011\n",
            "Epoch 17, Loss: 0.6034380793571472, Accuracy: 0.8115941882133484\n",
            "Epoch 18, Loss: 0.595460057258606, Accuracy: 0.8309178948402405\n",
            "Epoch 19, Loss: 0.5876438021659851, Accuracy: 0.8357487916946411\n",
            "Epoch 20, Loss: 0.5799965858459473, Accuracy: 0.8309178948402405\n",
            "Epoch 21, Loss: 0.5725171566009521, Accuracy: 0.8357487916946411\n",
            "Epoch 22, Loss: 0.5651977062225342, Accuracy: 0.8550724387168884\n",
            "Epoch 23, Loss: 0.5580381751060486, Accuracy: 0.8743961453437805\n",
            "Epoch 24, Loss: 0.5510351657867432, Accuracy: 0.8743961453437805\n",
            "Epoch 25, Loss: 0.544187068939209, Accuracy: 0.8743961453437805\n",
            "Epoch 26, Loss: 0.5374913215637207, Accuracy: 0.8792270421981812\n",
            "Epoch 27, Loss: 0.5309434533119202, Accuracy: 0.8792270421981812\n",
            "Epoch 28, Loss: 0.5245421528816223, Accuracy: 0.8792270421981812\n",
            "Epoch 29, Loss: 0.5182786583900452, Accuracy: 0.8743961453437805\n",
            "Epoch 30, Loss: 0.5121524333953857, Accuracy: 0.8695651888847351\n",
            "Epoch 31, Loss: 0.5061554312705994, Accuracy: 0.8792270421981812\n",
            "Epoch 32, Loss: 0.5002826452255249, Accuracy: 0.8792270421981812\n",
            "Epoch 33, Loss: 0.4945347309112549, Accuracy: 0.8792270421981812\n",
            "Epoch 34, Loss: 0.4889138340950012, Accuracy: 0.8840579986572266\n",
            "Epoch 35, Loss: 0.4834096133708954, Accuracy: 0.8840579986572266\n",
            "Epoch 36, Loss: 0.47801685333251953, Accuracy: 0.8840579986572266\n",
            "Epoch 37, Loss: 0.47273874282836914, Accuracy: 0.8840579986572266\n",
            "Epoch 38, Loss: 0.46757322549819946, Accuracy: 0.8792270421981812\n",
            "Epoch 39, Loss: 0.4625166058540344, Accuracy: 0.8792270421981812\n",
            "Epoch 40, Loss: 0.45756077766418457, Accuracy: 0.8792270421981812\n",
            "Epoch 41, Loss: 0.45270469784736633, Accuracy: 0.8840579986572266\n",
            "Epoch 42, Loss: 0.44794708490371704, Accuracy: 0.8840579986572266\n",
            "Epoch 43, Loss: 0.4432829022407532, Accuracy: 0.8840579986572266\n",
            "Epoch 44, Loss: 0.43871623277664185, Accuracy: 0.8840579986572266\n",
            "Epoch 45, Loss: 0.43424177169799805, Accuracy: 0.8840579986572266\n",
            "Epoch 46, Loss: 0.4298594892024994, Accuracy: 0.8840579986572266\n",
            "Epoch 47, Loss: 0.42556482553482056, Accuracy: 0.8840579986572266\n",
            "Epoch 48, Loss: 0.4213503897190094, Accuracy: 0.8840579986572266\n",
            "Epoch 49, Loss: 0.41721540689468384, Accuracy: 0.8840579986572266\n",
            "Epoch 50, Loss: 0.41315847635269165, Accuracy: 0.8840579986572266\n"
          ]
        }
      ]
    },
    {
      "cell_type": "code",
      "source": [
        "# Evaluation on test data\n",
        "model.eval()\n",
        "with torch.no_grad():\n",
        "    test_outputs = model(xTestTensor)\n",
        "    test_loss = criterion(test_outputs, yTestTensor.view(-1, 1))\n",
        "    predictions = (test_outputs >= 0.5).float()\n",
        "    accuracy = (predictions == yTestTensor.view(-1, 1)).float().mean().item()\n",
        "\n",
        "print(f'Test Loss: {test_loss.item()}, Test Accuracy: {accuracy}')"
      ],
      "metadata": {
        "colab": {
          "base_uri": "https://localhost:8080/"
        },
        "id": "KUwgbX-B9ff8",
        "outputId": "0b4f4ccc-fe95-4c0b-9080-7ea3b5231559"
      },
      "execution_count": 385,
      "outputs": [
        {
          "output_type": "stream",
          "name": "stdout",
          "text": [
            "Test Loss: 0.3906172513961792, Test Accuracy: 0.9130434989929199\n"
          ]
        }
      ]
    },
    {
      "cell_type": "markdown",
      "source": [
        "**Here's a breakdown of the output:**\n",
        "\n",
        "1. Training Progress:\n",
        "The training process is carried out for 50 epochs (complete passes through the training data).\n",
        "For each epoch, the model computes the loss (binary cross-entropy loss) and the accuracy on the training data.\n",
        "The loss decreases gradually with each epoch, indicating that the model is learning to minimize the error between predicted and true values.\n",
        "The training accuracy increases over epochs, suggesting that the model is improving its ability to correctly classify training samples.\n",
        "2. Evaluation on Test Data:\n",
        "After training, the model is evaluated on the test data to assess its performance on unseen data.\n",
        "The test loss (binary cross-entropy loss) is computed, which is similar to the training loss, indicating good generalization.\n",
        "The test accuracy is computed based on predictions made on the test set. The reported test accuracy is 0.9130, indicating the proportion of correctly classified test samples."
      ],
      "metadata": {
        "id": "W49gSItlBhZH"
      }
    },
    {
      "cell_type": "markdown",
      "source": [
        "# Gaussian Naive Bayes"
      ],
      "metadata": {
        "id": "R8zm3OSokKbe"
      }
    },
    {
      "cell_type": "code",
      "source": [
        "from sklearn.naive_bayes import GaussianNB\n",
        "from sklearn.metrics import accuracy_score, confusion_matrix, classification_report"
      ],
      "metadata": {
        "id": "xm58faW9Ip5B"
      },
      "execution_count": 386,
      "outputs": []
    },
    {
      "cell_type": "markdown",
      "source": [
        "**Split data 75/25**"
      ],
      "metadata": {
        "id": "qsfnLqzg6WO_"
      }
    },
    {
      "cell_type": "code",
      "source": [
        "# Split the data into training and testing sets\n",
        "xTrain, xTest, yTrain, yTest = train_test_split(x, y, test_size=0.25, random_state=42)\n",
        "\n",
        "gaussianNaiveBayes = GaussianNB()\n",
        "gaussianNaiveBayes.fit(xTrain, yTrain)\n",
        "gnbPredict = gaussianNaiveBayes.predict(xTest)\n",
        "gnbConfusionMatrix = confusion_matrix(yTest, gnbPredict)\n",
        "gnbReport = classification_report(yTest, gnbPredict)\n",
        "gnbAccuracy = round(accuracy_score(yTest, gnbPredict) * 100, ndigits=2)\n",
        "\n",
        "plt.figure(figsize=(5, 5))\n",
        "sns.heatmap(gnbConfusionMatrix, annot=True)\n",
        "plt.xlabel(\"Predicted\")\n",
        "plt.ylabel(\"Actual\")\n",
        "print(f\"Classification Report Naive Bayes with 75/25 data split: \\n\\n{gnbReport}\")\n",
        "print(f\"The Accuracy of Gaussian Naive Bayes is {gnbAccuracy} %\\n\")"
      ],
      "metadata": {
        "id": "C7jgTS1yrcx_",
        "colab": {
          "base_uri": "https://localhost:8080/",
          "height": 686
        },
        "outputId": "d4fbd468-db9f-45f5-a58f-88f2d349aba9"
      },
      "execution_count": 387,
      "outputs": [
        {
          "output_type": "stream",
          "name": "stdout",
          "text": [
            "Classification Report Naive Bayes with 75/25 data split: \n",
            "\n",
            "              precision    recall  f1-score   support\n",
            "\n",
            "           0       0.90      0.69      0.78        13\n",
            "           1       0.93      0.98      0.96        56\n",
            "\n",
            "    accuracy                           0.93        69\n",
            "   macro avg       0.92      0.84      0.87        69\n",
            "weighted avg       0.93      0.93      0.92        69\n",
            "\n",
            "The Accuracy of Gaussian Naive Bayes is 92.75 %\n",
            "\n"
          ]
        },
        {
          "output_type": "display_data",
          "data": {
            "text/plain": [
              "<Figure size 500x500 with 2 Axes>"
            ],
            "image/png": "[encoded data removed]"
          },
          "metadata": {}
        }
      ]
    },
    {
      "cell_type": "markdown",
      "source": [
        "**Split data 80/20**"
      ],
      "metadata": {
        "id": "bqAcbXQ8zXdb"
      }
    },
    {
      "cell_type": "code",
      "source": [
        "xTrain, xTest, yTrain, yTest = train_test_split(x, y, test_size=0.20, random_state=42)\n",
        "\n",
        "gaussianNaiveBayes = GaussianNB()\n",
        "gaussianNaiveBayes.fit(xTrain, yTrain)\n",
        "gnbPredict = gaussianNaiveBayes.predict(xTest)\n",
        "gnbConfusionMatrix = confusion_matrix(yTest, gnbPredict)\n",
        "gnbReport = classification_report(yTest, gnbPredict)\n",
        "gnbAccuracy = round(accuracy_score(yTest, gnbPredict) * 100, ndigits=2)\n",
        "\n",
        "plt.figure(figsize=(5, 5))\n",
        "sns.heatmap(gnbConfusionMatrix, annot=True)\n",
        "plt.xlabel(\"Predicted\")\n",
        "plt.ylabel(\"Actual\")\n",
        "print(f\"Classification Report Naive Bayes with 80/20 data split: \\n\\n{gnbReport}\")\n",
        "print(f\"The Accuracy of Gaussian Naive Bayes is {gnbAccuracy} %\\n\")"
      ],
      "metadata": {
        "colab": {
          "base_uri": "https://localhost:8080/",
          "height": 686
        },
        "id": "-QOWl36KytTJ",
        "outputId": "e3aba685-0906-4739-e32f-92b79653557a"
      },
      "execution_count": 388,
      "outputs": [
        {
          "output_type": "stream",
          "name": "stdout",
          "text": [
            "Classification Report Naive Bayes with 80/20 data split: \n",
            "\n",
            "              precision    recall  f1-score   support\n",
            "\n",
            "           0       0.89      0.67      0.76        12\n",
            "           1       0.91      0.98      0.95        44\n",
            "\n",
            "    accuracy                           0.91        56\n",
            "   macro avg       0.90      0.82      0.85        56\n",
            "weighted avg       0.91      0.91      0.91        56\n",
            "\n",
            "The Accuracy of Gaussian Naive Bayes is 91.07 %\n",
            "\n"
          ]
        },
        {
          "output_type": "display_data",
          "data": {
            "text/plain": [
              "<Figure size 500x500 with 2 Axes>"
            ],
            "image/png": "[encoded data removed]"
          },
          "metadata": {}
        }
      ]
    },
    {
      "cell_type": "markdown",
      "source": [
        "**Split data 70/30**"
      ],
      "metadata": {
        "id": "gGSBAb9zt5g2"
      }
    },
    {
      "cell_type": "code",
      "source": [
        "xTrain, xTest, yTrain, yTest = train_test_split(x, y, test_size=0.30, random_state=42)\n",
        "\n",
        "gaussianNaiveBayes = GaussianNB()\n",
        "gaussianNaiveBayes.fit(xTrain, yTrain)\n",
        "gnbPredict = gaussianNaiveBayes.predict(xTest)\n",
        "gnbConfusionMatrix = confusion_matrix(yTest, gnbPredict)\n",
        "gnbReport = classification_report(yTest, gnbPredict)\n",
        "gnbAccuracy = round(accuracy_score(yTest, gnbPredict) * 100, ndigits=2)\n",
        "\n",
        "plt.figure(figsize=(5, 5))\n",
        "sns.heatmap(gnbConfusionMatrix, annot=True)\n",
        "plt.xlabel(\"Predicted\")\n",
        "plt.ylabel(\"Actual\")\n",
        "print(f\"Classification Report Naive Bayes with 70/30 data split: \\n\\n{gnbReport}\")\n",
        "print(f\"The Accuracy of Gaussian Naive Bayes is {gnbAccuracy} %\\n\")"
      ],
      "metadata": {
        "colab": {
          "base_uri": "https://localhost:8080/",
          "height": 686
        },
        "id": "u46dL4JetuYk",
        "outputId": "e826f50f-97ae-40c5-8c07-5fbac0795b83"
      },
      "execution_count": 389,
      "outputs": [
        {
          "output_type": "stream",
          "name": "stdout",
          "text": [
            "Classification Report Naive Bayes with 70/30 data split: \n",
            "\n",
            "              precision    recall  f1-score   support\n",
            "\n",
            "           0       0.80      0.62      0.70        13\n",
            "           1       0.93      0.97      0.95        70\n",
            "\n",
            "    accuracy                           0.92        83\n",
            "   macro avg       0.87      0.79      0.82        83\n",
            "weighted avg       0.91      0.92      0.91        83\n",
            "\n",
            "The Accuracy of Gaussian Naive Bayes is 91.57 %\n",
            "\n"
          ]
        },
        {
          "output_type": "display_data",
          "data": {
            "text/plain": [
              "<Figure size 500x500 with 2 Axes>"
            ],
            "image/png": "[encoded data removed]"
          },
          "metadata": {}
        }
      ]
    },
    {
      "cell_type": "markdown",
      "source": [
        "**Split data 65/35**"
      ],
      "metadata": {
        "id": "Aijovt5duSFU"
      }
    },
    {
      "cell_type": "code",
      "source": [
        "xTrain, xTest, yTrain, yTest = train_test_split(x, y, test_size=0.35, random_state=42)\n",
        "\n",
        "gaussianNaiveBayes = GaussianNB()\n",
        "gaussianNaiveBayes.fit(xTrain, yTrain)\n",
        "gnbPredict = gaussianNaiveBayes.predict(xTest)\n",
        "gnbConfusionMatrix = confusion_matrix(yTest, gnbPredict)\n",
        "gnbReport = classification_report(yTest, gnbPredict)\n",
        "gnbAccuracy = round(accuracy_score(yTest, gnbPredict) * 100, ndigits=2)\n",
        "\n",
        "plt.figure(figsize=(5, 5))\n",
        "sns.heatmap(gnbConfusionMatrix, annot=True)\n",
        "plt.xlabel(\"Predicted\")\n",
        "plt.ylabel(\"Actual\")\n",
        "print(f\"Classification Report Naive Bayes with 65/35 split: \\n\\n{gnbReport}\")\n",
        "print(f\"The Accuracy of Gaussian Naive Bayes is {gnbAccuracy} %\\n\")"
      ],
      "metadata": {
        "colab": {
          "base_uri": "https://localhost:8080/",
          "height": 686
        },
        "id": "TpzNYQd7uLv6",
        "outputId": "e7fc3ea0-481e-4f73-cd8c-5a8117f875e7"
      },
      "execution_count": 390,
      "outputs": [
        {
          "output_type": "stream",
          "name": "stdout",
          "text": [
            "Classification Report Naive Bayes with 65/35 split: \n",
            "\n",
            "              precision    recall  f1-score   support\n",
            "\n",
            "           0       0.69      0.64      0.67        14\n",
            "           1       0.94      0.95      0.95        83\n",
            "\n",
            "    accuracy                           0.91        97\n",
            "   macro avg       0.82      0.80      0.81        97\n",
            "weighted avg       0.90      0.91      0.91        97\n",
            "\n",
            "The Accuracy of Gaussian Naive Bayes is 90.72 %\n",
            "\n"
          ]
        },
        {
          "output_type": "display_data",
          "data": {
            "text/plain": [
              "<Figure size 500x500 with 2 Axes>"
            ],
            "image/png": "[encoded data removed]"
          },
          "metadata": {}
        }
      ]
    },
    {
      "cell_type": "markdown",
      "source": [
        "# Logistic Regression"
      ],
      "metadata": {
        "id": "q6P8b5CfkUDf"
      }
    },
    {
      "cell_type": "code",
      "source": [
        "from sklearn.linear_model import LogisticRegression"
      ],
      "metadata": {
        "id": "rZXhCbf9JRVr"
      },
      "execution_count": 391,
      "outputs": []
    },
    {
      "cell_type": "markdown",
      "source": [
        "**Split data 75/25**"
      ],
      "metadata": {
        "id": "eZdn6l5w6y6y"
      }
    },
    {
      "cell_type": "code",
      "source": [
        "xTrain, xTest, yTrain, yTest = train_test_split(x, y, test_size=0.25, random_state=42)\n",
        "\n",
        "logisticRegression = LogisticRegression()\n",
        "logisticRegression.fit(xTrain, yTrain)\n",
        "lrPredict = logisticRegression.predict(xTest)\n",
        "lrConfusionMatrix = confusion_matrix(yTest, lrPredict)\n",
        "lrReport = classification_report(yTest, lrPredict)\n",
        "lrAccuracy = round(accuracy_score(yTest, lrPredict) * 100, ndigits=2)\n",
        "\n",
        "plt.figure(figsize=(5, 5))\n",
        "sns.heatmap(lrConfusionMatrix, annot=True)\n",
        "plt.xlabel(\"Predicted\")\n",
        "plt.ylabel(\"Actual\")\n",
        "print(f\"Classification Report Logistic Regression (75/25 split): \\n\\n{lrReport}\")\n",
        "print(f\"The Accuracy of Logistic Regression is {lrAccuracy} %\\n\")"
      ],
      "metadata": {
        "id": "kgjtHi7-kXD8",
        "colab": {
          "base_uri": "https://localhost:8080/",
          "height": 686
        },
        "outputId": "02377a9b-615c-4995-9bb3-0f635a94ec38"
      },
      "execution_count": 392,
      "outputs": [
        {
          "output_type": "stream",
          "name": "stdout",
          "text": [
            "Classification Report Logistic Regression (75/25 split): \n",
            "\n",
            "              precision    recall  f1-score   support\n",
            "\n",
            "           0       1.00      0.54      0.70        13\n",
            "           1       0.90      1.00      0.95        56\n",
            "\n",
            "    accuracy                           0.91        69\n",
            "   macro avg       0.95      0.77      0.82        69\n",
            "weighted avg       0.92      0.91      0.90        69\n",
            "\n",
            "The Accuracy of Logistic Regression is 91.3 %\n",
            "\n"
          ]
        },
        {
          "output_type": "display_data",
          "data": {
            "text/plain": [
              "<Figure size 500x500 with 2 Axes>"
            ],
            "image/png": "[encoded data removed]"
          },
          "metadata": {}
        }
      ]
    },
    {
      "cell_type": "markdown",
      "source": [
        "**Split data 80/20**"
      ],
      "metadata": {
        "id": "PmL8EkXk7g9n"
      }
    },
    {
      "cell_type": "code",
      "source": [
        "xTrain, xTest, yTrain, yTest = train_test_split(x, y, test_size=0.20, random_state=42)\n",
        "\n",
        "logisticRegression = LogisticRegression()\n",
        "logisticRegression.fit(xTrain, yTrain)\n",
        "lrPredict = logisticRegression.predict(xTest)\n",
        "lrConfusionMatrix = confusion_matrix(yTest, lrPredict)\n",
        "lrReport = classification_report(yTest, lrPredict)\n",
        "lrAccuracy = round(accuracy_score(yTest, lrPredict) * 100, ndigits=2)\n",
        "\n",
        "plt.figure(figsize=(5, 5))\n",
        "sns.heatmap(lrConfusionMatrix, annot=True)\n",
        "plt.xlabel(\"Predicted\")\n",
        "plt.ylabel(\"Actual\")\n",
        "print(f\"Classification Report Logistic Regression (80/20 split): \\n\\n{lrReport}\")\n",
        "print(f\"The Accuracy of Logistic Regression is {lrAccuracy} %\\n\")\n"
      ],
      "metadata": {
        "colab": {
          "base_uri": "https://localhost:8080/",
          "height": 686
        },
        "id": "9O7ciXaKtNyK",
        "outputId": "da48da74-5129-412f-bf65-8d7ce5aa1e34"
      },
      "execution_count": 393,
      "outputs": [
        {
          "output_type": "stream",
          "name": "stdout",
          "text": [
            "Classification Report Logistic Regression (80/20 split): \n",
            "\n",
            "              precision    recall  f1-score   support\n",
            "\n",
            "           0       1.00      0.67      0.80        12\n",
            "           1       0.92      1.00      0.96        44\n",
            "\n",
            "    accuracy                           0.93        56\n",
            "   macro avg       0.96      0.83      0.88        56\n",
            "weighted avg       0.93      0.93      0.92        56\n",
            "\n",
            "The Accuracy of Logistic Regression is 92.86 %\n",
            "\n"
          ]
        },
        {
          "output_type": "display_data",
          "data": {
            "text/plain": [
              "<Figure size 500x500 with 2 Axes>"
            ],
            "image/png": "[encoded data removed]"
          },
          "metadata": {}
        }
      ]
    },
    {
      "cell_type": "markdown",
      "source": [
        "**Split data 70/30**"
      ],
      "metadata": {
        "id": "D0PlWkZf7b4F"
      }
    },
    {
      "cell_type": "code",
      "source": [
        "xTrain, xTest, yTrain, yTest = train_test_split(x, y, test_size=0.30, random_state=42)\n",
        "\n",
        "logisticRegression = LogisticRegression()\n",
        "logisticRegression.fit(xTrain, yTrain)\n",
        "lrPredict = logisticRegression.predict(xTest)\n",
        "lrConfusionMatrix = confusion_matrix(yTest, lrPredict)\n",
        "lrReport = classification_report(yTest, lrPredict)\n",
        "lrAccuracy = round(accuracy_score(yTest, lrPredict) * 100, ndigits=2)\n",
        "\n",
        "plt.figure(figsize=(5, 5))\n",
        "sns.heatmap(lrConfusionMatrix, annot=True)\n",
        "plt.xlabel(\"Predicted\")\n",
        "plt.ylabel(\"Actual\")\n",
        "print(f\"Classification Report Logistic Regression (70/30 split): \\n\\n{lrReport}\")\n",
        "print(f\"The Accuracy of Logistic Regression is {lrAccuracy} %\\n\")"
      ],
      "metadata": {
        "colab": {
          "base_uri": "https://localhost:8080/",
          "height": 691
        },
        "id": "W3rH3bZMuFnx",
        "outputId": "7cf54e46-262e-4b3a-8427-e7c516155e71"
      },
      "execution_count": 394,
      "outputs": [
        {
          "output_type": "stream",
          "name": "stdout",
          "text": [
            "Classification Report Logistic Regression (70/30 split): \n",
            "\n",
            "              precision    recall  f1-score   support\n",
            "\n",
            "           0       1.00      0.38      0.56        13\n",
            "           1       0.90      1.00      0.95        70\n",
            "\n",
            "    accuracy                           0.90        83\n",
            "   macro avg       0.95      0.69      0.75        83\n",
            "weighted avg       0.91      0.90      0.88        83\n",
            "\n",
            "The Accuracy of Logistic Regression is 90.36 %\n",
            "\n"
          ]
        },
        {
          "output_type": "display_data",
          "data": {
            "text/plain": [
              "<Figure size 500x500 with 2 Axes>"
            ],
            "image/png": "[encoded data removed]"
          },
          "metadata": {}
        }
      ]
    },
    {
      "cell_type": "markdown",
      "source": [
        "**Split data 65/35**"
      ],
      "metadata": {
        "id": "VxN51DGt7Wtn"
      }
    },
    {
      "cell_type": "code",
      "source": [
        "xTrain, xTest, yTrain, yTest = train_test_split(x, y, test_size=0.35, random_state=42)\n",
        "\n",
        "logisticRegression = LogisticRegression()\n",
        "logisticRegression.fit(xTrain, yTrain)\n",
        "lrPredict = logisticRegression.predict(xTest)\n",
        "lrConfusionMatrix = confusion_matrix(yTest, lrPredict)\n",
        "lrReport = classification_report(yTest, lrPredict)\n",
        "lrAccuracy = round(accuracy_score(yTest, lrPredict) * 100, ndigits=2)\n",
        "\n",
        "plt.figure(figsize=(5, 5))\n",
        "sns.heatmap(lrConfusionMatrix, annot=True)\n",
        "plt.xlabel(\"Predicted\")\n",
        "plt.ylabel(\"Actual\")\n",
        "print(f\"Classification Report Logistic Regression (65/35 split): \\n\\n{lrReport}\")\n",
        "print(f\"The Accuracy of Logistic Regression is {lrAccuracy} %\\n\")"
      ],
      "metadata": {
        "colab": {
          "base_uri": "https://localhost:8080/",
          "height": 686
        },
        "id": "V2bzDIWHuQaM",
        "outputId": "cc714f56-1c68-4bdd-c3bf-cb719d8ca416"
      },
      "execution_count": 395,
      "outputs": [
        {
          "output_type": "stream",
          "name": "stdout",
          "text": [
            "Classification Report Logistic Regression (65/35 split): \n",
            "\n",
            "              precision    recall  f1-score   support\n",
            "\n",
            "           0       0.71      0.71      0.71        14\n",
            "           1       0.95      0.95      0.95        83\n",
            "\n",
            "    accuracy                           0.92        97\n",
            "   macro avg       0.83      0.83      0.83        97\n",
            "weighted avg       0.92      0.92      0.92        97\n",
            "\n",
            "The Accuracy of Logistic Regression is 91.75 %\n",
            "\n"
          ]
        },
        {
          "output_type": "display_data",
          "data": {
            "text/plain": [
              "<Figure size 500x500 with 2 Axes>"
            ],
            "image/png": "[encoded data removed]"
          },
          "metadata": {}
        }
      ]
    },
    {
      "cell_type": "markdown",
      "source": [
        "All sort of accuracy, f1score...etc, see explaination here: https://towardsdatascience.com/the-f1-score-bec2bbc38aa6\n",
        "\n",
        "\n",
        "\n",
        "Since the F1 score is an average of Precision and Recall, it means that the F1 score gives equal weight to Precision and Recall:\n",
        "\n",
        "A model will obtain a high F1 score if both Precision and Recall are high\n",
        "A model will obtain a low F1 score if both Precision and Recall are low\n",
        "A model will obtain a medium F1 score if one of Precision and Recall is low and the other is high"
      ],
      "metadata": {
        "id": "6MF8GsDgzCK4"
      }
    }
  ]
}